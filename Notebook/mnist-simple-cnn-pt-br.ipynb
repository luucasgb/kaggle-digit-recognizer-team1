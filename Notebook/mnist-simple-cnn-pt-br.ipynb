{
 "cells": [
  {
   "cell_type": "markdown",
   "id": "8732ca29",
   "metadata": {
    "execution": {
     "iopub.execute_input": "2021-10-16T18:37:11.217262Z",
     "iopub.status.busy": "2021-10-16T18:37:11.216706Z",
     "iopub.status.idle": "2021-10-16T18:37:11.228293Z",
     "shell.execute_reply": "2021-10-16T18:37:11.226358Z",
     "shell.execute_reply.started": "2021-10-16T18:37:11.217216Z"
    },
    "papermill": {
     "duration": 0.023171,
     "end_time": "2021-10-16T18:46:22.496189",
     "exception": false,
     "start_time": "2021-10-16T18:46:22.473018",
     "status": "completed"
    },
    "tags": []
   },
   "source": [
    "Sumário:\n",
    "\n",
    "1. <a href=\"#sec1\"> Importações </a>\n",
    "2. <a href=\"#sec2\"> Carregando dados </a>\n",
    "3. <a href=\"#sec3\"> Visualização e exploração dos dados </a>\n",
    "    * <a href=\"#sec30\"> Remodelando formato dos dados </a>\n",
    "    * <a href=\"#sec31\"> Visualização </a>\n",
    "    * <a href=\"#sec32\"> Imagem média por classe </a>\n",
    "    * <a href=\"#sec33\"> Pixel médio por classe </a>\n",
    "4. <a href=\"#sec4\"> Pré-processamento </a>\n",
    "    * <a href=\"#sec41\"> Rótulos </a>\n",
    "    * <a href=\"#sec42\"> Normalização </a>\n",
    "    * <a href=\"#sec43\"> Divisão </a>\n",
    "5. <a href=\"#sec5\"> Definindo e treinando o modelo </a>\n",
    "6. <a href=\"#sec6\"> Avaliação do modelo </a>\n",
    "7. <a href=\"#sec7\"> Previsão </a>\n",
    "    * <a href=\"#sec71\"> Gerando a submissão </a>\n",
    "8. <a href=\"#sec8\"> Possíveis passos futuros </a>\n"
   ]
  },
  {
   "cell_type": "markdown",
   "id": "5d2392e3",
   "metadata": {
    "execution": {
     "iopub.execute_input": "2021-08-15T15:04:15.118189Z",
     "iopub.status.busy": "2021-08-15T15:04:15.117417Z",
     "iopub.status.idle": "2021-08-15T15:04:15.134802Z",
     "shell.execute_reply": "2021-08-15T15:04:15.132947Z",
     "shell.execute_reply.started": "2021-08-15T15:04:15.118053Z"
    },
    "papermill": {
     "duration": 0.0219,
     "end_time": "2021-10-16T18:46:22.540826",
     "exception": false,
     "start_time": "2021-10-16T18:46:22.518926",
     "status": "completed"
    },
    "tags": []
   },
   "source": [
    "<a id=\"sec1\"></a>\n",
    "## 1. Importando bibliotecas"
   ]
  },
  {
   "cell_type": "code",
   "execution_count": 1,
   "id": "5d40d649",
   "metadata": {
    "execution": {
     "iopub.execute_input": "2021-10-16T18:46:22.597170Z",
     "iopub.status.busy": "2021-10-16T18:46:22.596468Z",
     "iopub.status.idle": "2021-10-16T18:46:28.527189Z",
     "shell.execute_reply": "2021-10-16T18:46:28.526422Z"
    },
    "papermill": {
     "duration": 5.96444,
     "end_time": "2021-10-16T18:46:28.527343",
     "exception": false,
     "start_time": "2021-10-16T18:46:22.562903",
     "status": "completed"
    },
    "tags": []
   },
   "outputs": [],
   "source": [
    "import os\n",
    "import pandas as pd\n",
    "import numpy as np\n",
    "import matplotlib.pyplot as plt\n",
    "from tensorflow.keras.utils import to_categorical\n",
    "from tensorflow.keras.models import Sequential\n",
    "from tensorflow.keras.layers import Dense, Conv2D, MaxPool2D, Flatten, BatchNormalization, Dropout\n",
    "from tensorflow.keras.callbacks import EarlyStopping\n",
    "from keras.utils import plot_model\n",
    "from sklearn.model_selection import train_test_split\n",
    "from sklearn.metrics import classification_report,confusion_matrix"
   ]
  },
  {
   "cell_type": "markdown",
   "id": "3ad7f578",
   "metadata": {
    "execution": {
     "iopub.execute_input": "2021-08-10T21:22:01.551449Z",
     "iopub.status.busy": "2021-08-10T21:22:01.551112Z",
     "iopub.status.idle": "2021-08-10T21:22:01.557442Z",
     "shell.execute_reply": "2021-08-10T21:22:01.556359Z",
     "shell.execute_reply.started": "2021-08-10T21:22:01.551421Z"
    },
    "papermill": {
     "duration": 0.023379,
     "end_time": "2021-10-16T18:46:28.574375",
     "exception": false,
     "start_time": "2021-10-16T18:46:28.550996",
     "status": "completed"
    },
    "tags": []
   },
   "source": [
    "<a id=\"sec2\"></a>\n",
    "## 2. Importando arquivos"
   ]
  },
  {
   "cell_type": "code",
   "execution_count": 2,
   "id": "b0366578",
   "metadata": {
    "execution": {
     "iopub.execute_input": "2021-10-16T18:46:28.624999Z",
     "iopub.status.busy": "2021-10-16T18:46:28.624231Z",
     "iopub.status.idle": "2021-10-16T18:46:28.912132Z",
     "shell.execute_reply": "2021-10-16T18:46:28.909947Z"
    },
    "papermill": {
     "duration": 0.314737,
     "end_time": "2021-10-16T18:46:28.912420",
     "exception": true,
     "start_time": "2021-10-16T18:46:28.597683",
     "status": "failed"
    },
    "tags": []
   },
   "outputs": [
    {
     "ename": "NameError",
     "evalue": "name 'df_train' is not defined",
     "output_type": "error",
     "traceback": [
      "\u001b[0;31m---------------------------------------------------------------------------\u001b[0m",
      "\u001b[0;31mNameError\u001b[0m                                 Traceback (most recent call last)",
      "\u001b[0;32m<ipython-input-2-ae4c411233fc>\u001b[0m in \u001b[0;36m<module>\u001b[0;34m\u001b[0m\n\u001b[0;32m----> 1\u001b[0;31m \u001b[0mdf_train\u001b[0m\u001b[0;34m.\u001b[0m\u001b[0mhead\u001b[0m\u001b[0;34m(\u001b[0m\u001b[0;34m)\u001b[0m\u001b[0;34m\u001b[0m\u001b[0;34m\u001b[0m\u001b[0m\n\u001b[0m",
      "\u001b[0;31mNameError\u001b[0m: name 'df_train' is not defined"
     ]
    }
   ],
   "source": [
    "df_train.head()"
   ]
  },
  {
   "cell_type": "code",
   "execution_count": null,
   "id": "c29ff44a",
   "metadata": {
    "papermill": {
     "duration": null,
     "end_time": null,
     "exception": null,
     "start_time": null,
     "status": "pending"
    },
    "tags": []
   },
   "outputs": [],
   "source": [
    "df_test.head()"
   ]
  },
  {
   "cell_type": "code",
   "execution_count": null,
   "id": "72779f12",
   "metadata": {
    "papermill": {
     "duration": null,
     "end_time": null,
     "exception": null,
     "start_time": null,
     "status": "pending"
    },
    "tags": []
   },
   "outputs": [],
   "source": [
    "x_train_temp = np.array(df_train.iloc[:, 1:])\n",
    "y_train = np.array(df_train.iloc[:, 0])\n",
    "\n",
    "x_test = np.array(df_test)"
   ]
  },
  {
   "cell_type": "markdown",
   "id": "4872f019",
   "metadata": {
    "execution": {
     "iopub.execute_input": "2021-08-10T21:22:33.711394Z",
     "iopub.status.busy": "2021-08-10T21:22:33.710875Z",
     "iopub.status.idle": "2021-08-10T21:22:33.715805Z",
     "shell.execute_reply": "2021-08-10T21:22:33.714812Z",
     "shell.execute_reply.started": "2021-08-10T21:22:33.71136Z"
    },
    "papermill": {
     "duration": null,
     "end_time": null,
     "exception": null,
     "start_time": null,
     "status": "pending"
    },
    "tags": []
   },
   "source": [
    "<a id=\"sec3\"></a>\n",
    "## 3. Vizualização e exploração dos dados"
   ]
  },
  {
   "cell_type": "markdown",
   "id": "b997a15c",
   "metadata": {
    "execution": {
     "iopub.execute_input": "2021-08-10T21:24:02.754518Z",
     "iopub.status.busy": "2021-08-10T21:24:02.754204Z",
     "iopub.status.idle": "2021-08-10T21:24:02.759963Z",
     "shell.execute_reply": "2021-08-10T21:24:02.758981Z",
     "shell.execute_reply.started": "2021-08-10T21:24:02.754491Z"
    },
    "papermill": {
     "duration": null,
     "end_time": null,
     "exception": null,
     "start_time": null,
     "status": "pending"
    },
    "tags": []
   },
   "source": [
    "<a id=\"sec30\"></a>\n",
    "### Remodelando formato dos dados"
   ]
  },
  {
   "cell_type": "code",
   "execution_count": null,
   "id": "b6f92833",
   "metadata": {
    "papermill": {
     "duration": null,
     "end_time": null,
     "exception": null,
     "start_time": null,
     "status": "pending"
    },
    "tags": []
   },
   "outputs": [],
   "source": [
    "N_train_samples = x_train_temp.shape[0]\n",
    "x_train = x_train_temp.reshape(N_train_samples, 28, 28, 1)"
   ]
  },
  {
   "cell_type": "markdown",
   "id": "befaf0a2",
   "metadata": {
    "execution": {
     "iopub.execute_input": "2021-08-11T01:11:46.479635Z",
     "iopub.status.busy": "2021-08-11T01:11:46.479238Z",
     "iopub.status.idle": "2021-08-11T01:11:46.485938Z",
     "shell.execute_reply": "2021-08-11T01:11:46.484454Z",
     "shell.execute_reply.started": "2021-08-11T01:11:46.479603Z"
    },
    "papermill": {
     "duration": null,
     "end_time": null,
     "exception": null,
     "start_time": null,
     "status": "pending"
    },
    "tags": []
   },
   "source": [
    "<a id=\"sec31\"></a>\n",
    "### Visualização "
   ]
  },
  {
   "cell_type": "code",
   "execution_count": null,
   "id": "ba9b1f5c",
   "metadata": {
    "papermill": {
     "duration": null,
     "end_time": null,
     "exception": null,
     "start_time": null,
     "status": "pending"
    },
    "tags": []
   },
   "outputs": [],
   "source": [
    "plt.figure(figsize=(30, 15))\n",
    "\n",
    "n = 10\n",
    "\n",
    "for i in range(n):\n",
    "    plt.subplot(1, n, i+1)\n",
    "    img = x_train[i]\n",
    "    plt.imshow(img, cmap='Greys')\n",
    "plt.show()"
   ]
  },
  {
   "cell_type": "markdown",
   "id": "a61a7538",
   "metadata": {
    "execution": {
     "iopub.execute_input": "2021-08-30T03:40:13.908639Z",
     "iopub.status.busy": "2021-08-30T03:40:13.908028Z",
     "iopub.status.idle": "2021-08-30T03:40:13.914964Z",
     "shell.execute_reply": "2021-08-30T03:40:13.913832Z",
     "shell.execute_reply.started": "2021-08-30T03:40:13.9086Z"
    },
    "papermill": {
     "duration": null,
     "end_time": null,
     "exception": null,
     "start_time": null,
     "status": "pending"
    },
    "tags": []
   },
   "source": [
    "<a id=\"sec32\"></a>\n",
    "### Imagem média por classe"
   ]
  },
  {
   "cell_type": "code",
   "execution_count": null,
   "id": "5300625b",
   "metadata": {
    "papermill": {
     "duration": null,
     "end_time": null,
     "exception": null,
     "start_time": null,
     "status": "pending"
    },
    "tags": []
   },
   "outputs": [],
   "source": [
    "def get_class_arrays(class_index):\n",
    "    return x_train[y_train==class_index],y_train[y_train==class_index]"
   ]
  },
  {
   "cell_type": "code",
   "execution_count": null,
   "id": "3ab67b94",
   "metadata": {
    "papermill": {
     "duration": null,
     "end_time": null,
     "exception": null,
     "start_time": null,
     "status": "pending"
    },
    "tags": []
   },
   "outputs": [],
   "source": [
    "def get_mean_images():\n",
    "    for i in range(10):\n",
    "        class_arrayX, class_arrayY = get_class_arrays(i)\n",
    "        mean_image = class_arrayX.mean(axis=0)\n",
    "        plt.subplot(2, 5, i+1)\n",
    "        plt.axis(\"off\")\n",
    "        plt.title(i)\n",
    "        plt.imshow(mean_image.squeeze())\n",
    "        \n",
    "plt.figure(figsize=(15, 5))\n",
    "get_mean_images()"
   ]
  },
  {
   "cell_type": "markdown",
   "id": "72be34bf",
   "metadata": {
    "papermill": {
     "duration": null,
     "end_time": null,
     "exception": null,
     "start_time": null,
     "status": "pending"
    },
    "tags": []
   },
   "source": [
    "<a id=\"sec33\"></a>\n",
    "### Pixel médio por classe\n",
    "\n",
    "Média de todos o pixels, de todas as imagens, por classe. Note que o valor dos pixels estão em uma faixa de valores de 0-255."
   ]
  },
  {
   "cell_type": "code",
   "execution_count": null,
   "id": "de137fd4",
   "metadata": {
    "papermill": {
     "duration": null,
     "end_time": null,
     "exception": null,
     "start_time": null,
     "status": "pending"
    },
    "tags": []
   },
   "outputs": [],
   "source": [
    "def get_mean_barchart():\n",
    "    mean_values =[]\n",
    "    for i in range(10):\n",
    "        class_arrayX,class_arrayY = get_class_arrays(i)\n",
    "        mean_values.append(class_arrayX.mean())\n",
    "    \n",
    "    plt.bar(np.arange(10), mean_values)\n",
    "    plt.xticks(np.arange(10))\n",
    "    \n",
    "plt.figure(figsize=(15, 5))\n",
    "get_mean_barchart()"
   ]
  },
  {
   "cell_type": "markdown",
   "id": "4f32bb8a",
   "metadata": {
    "execution": {
     "iopub.execute_input": "2021-08-10T21:22:51.337421Z",
     "iopub.status.busy": "2021-08-10T21:22:51.336907Z",
     "iopub.status.idle": "2021-08-10T21:22:51.343544Z",
     "shell.execute_reply": "2021-08-10T21:22:51.34223Z",
     "shell.execute_reply.started": "2021-08-10T21:22:51.337375Z"
    },
    "papermill": {
     "duration": null,
     "end_time": null,
     "exception": null,
     "start_time": null,
     "status": "pending"
    },
    "tags": []
   },
   "source": [
    "<a id=\"sec4\"></a>\n",
    "## 4. Pré-processamento"
   ]
  },
  {
   "cell_type": "markdown",
   "id": "2de8019f",
   "metadata": {
    "execution": {
     "iopub.execute_input": "2021-08-10T21:23:03.651039Z",
     "iopub.status.busy": "2021-08-10T21:23:03.650322Z",
     "iopub.status.idle": "2021-08-10T21:23:03.659239Z",
     "shell.execute_reply": "2021-08-10T21:23:03.657242Z",
     "shell.execute_reply.started": "2021-08-10T21:23:03.650983Z"
    },
    "papermill": {
     "duration": null,
     "end_time": null,
     "exception": null,
     "start_time": null,
     "status": "pending"
    },
    "tags": []
   },
   "source": [
    "<a id=\"sec41\"></a>\n",
    "### Classe"
   ]
  },
  {
   "cell_type": "code",
   "execution_count": null,
   "id": "8bd20661",
   "metadata": {
    "papermill": {
     "duration": null,
     "end_time": null,
     "exception": null,
     "start_time": null,
     "status": "pending"
    },
    "tags": []
   },
   "outputs": [],
   "source": [
    "y_train"
   ]
  },
  {
   "cell_type": "code",
   "execution_count": null,
   "id": "0dbc81d8",
   "metadata": {
    "papermill": {
     "duration": null,
     "end_time": null,
     "exception": null,
     "start_time": null,
     "status": "pending"
    },
    "tags": []
   },
   "outputs": [],
   "source": [
    "y_cat_train = to_categorical(y_train)\n",
    "y_cat_train"
   ]
  },
  {
   "cell_type": "markdown",
   "id": "eba0d188",
   "metadata": {
    "execution": {
     "iopub.execute_input": "2021-08-10T21:23:25.18572Z",
     "iopub.status.busy": "2021-08-10T21:23:25.18537Z",
     "iopub.status.idle": "2021-08-10T21:23:25.191817Z",
     "shell.execute_reply": "2021-08-10T21:23:25.19024Z",
     "shell.execute_reply.started": "2021-08-10T21:23:25.18569Z"
    },
    "papermill": {
     "duration": null,
     "end_time": null,
     "exception": null,
     "start_time": null,
     "status": "pending"
    },
    "tags": []
   },
   "source": [
    "<a id=\"sec42\"></a>\n",
    "### Normalização dos valores de cada pixel"
   ]
  },
  {
   "cell_type": "code",
   "execution_count": null,
   "id": "38fdbdfa",
   "metadata": {
    "papermill": {
     "duration": null,
     "end_time": null,
     "exception": null,
     "start_time": null,
     "status": "pending"
    },
    "tags": []
   },
   "outputs": [],
   "source": [
    "x_train = x_train/255"
   ]
  },
  {
   "cell_type": "markdown",
   "id": "ef26c7e6",
   "metadata": {
    "execution": {
     "iopub.execute_input": "2021-08-10T22:02:55.769302Z",
     "iopub.status.busy": "2021-08-10T22:02:55.768933Z",
     "iopub.status.idle": "2021-08-10T22:02:55.775056Z",
     "shell.execute_reply": "2021-08-10T22:02:55.773706Z",
     "shell.execute_reply.started": "2021-08-10T22:02:55.769269Z"
    },
    "papermill": {
     "duration": null,
     "end_time": null,
     "exception": null,
     "start_time": null,
     "status": "pending"
    },
    "tags": []
   },
   "source": [
    "##### <a id=\"sec43\"></a>\n",
    "### Separação dos dados"
   ]
  },
  {
   "cell_type": "code",
   "execution_count": null,
   "id": "a4d010a3",
   "metadata": {
    "papermill": {
     "duration": null,
     "end_time": null,
     "exception": null,
     "start_time": null,
     "status": "pending"
    },
    "tags": []
   },
   "outputs": [],
   "source": [
    "X_train, X_val, Y_train, Y_val = train_test_split(x_train, y_cat_train, test_size=0.2, random_state=42)"
   ]
  },
  {
   "cell_type": "markdown",
   "id": "be5c3401",
   "metadata": {
    "execution": {
     "iopub.execute_input": "2021-08-10T21:24:20.608729Z",
     "iopub.status.busy": "2021-08-10T21:24:20.608375Z",
     "iopub.status.idle": "2021-08-10T21:24:20.615044Z",
     "shell.execute_reply": "2021-08-10T21:24:20.613809Z",
     "shell.execute_reply.started": "2021-08-10T21:24:20.608697Z"
    },
    "papermill": {
     "duration": null,
     "end_time": null,
     "exception": null,
     "start_time": null,
     "status": "pending"
    },
    "tags": []
   },
   "source": [
    "<a id=\"sec5\"></a>\n",
    "## 5. Definindo e treinando o modelo"
   ]
  },
  {
   "cell_type": "code",
   "execution_count": null,
   "id": "a3c63710",
   "metadata": {
    "papermill": {
     "duration": null,
     "end_time": null,
     "exception": null,
     "start_time": null,
     "status": "pending"
    },
    "tags": []
   },
   "outputs": [],
   "source": [
    "model = Sequential()\n",
    "\n",
    "model.add(Conv2D(6,(5,5), activation='relu', input_shape=(28,28,1)))\n",
    "model.add(BatchNormalization())\n",
    "model.add(MaxPool2D(pool_size=(2,2)))\n",
    "model.add(Conv2D(16, (5,5), activation='relu'))\n",
    "model.add(BatchNormalization())\n",
    "model.add(MaxPool2D(pool_size=(2,2))),\n",
    "model.add(Flatten())\n",
    "model.add(Dense(128, activation='relu'))\n",
    "model.add(Dropout(0.3))\n",
    "model.add(BatchNormalization())\n",
    "model.add(Dense(64, activation='relu'))\n",
    "model.add(Dropout(0.3))\n",
    "model.add(BatchNormalization())\n",
    "model.add(Dense(10, activation='softmax'))\n",
    "\n",
    "model.compile(loss='categorical_crossentropy',\n",
    "              optimizer='adam',\n",
    "              metrics=['accuracy'])"
   ]
  },
  {
   "cell_type": "code",
   "execution_count": null,
   "id": "7fbaa1ab",
   "metadata": {
    "papermill": {
     "duration": null,
     "end_time": null,
     "exception": null,
     "start_time": null,
     "status": "pending"
    },
    "tags": []
   },
   "outputs": [],
   "source": [
    "model.summary()"
   ]
  },
  {
   "cell_type": "code",
   "execution_count": null,
   "id": "a26e65cf",
   "metadata": {
    "papermill": {
     "duration": null,
     "end_time": null,
     "exception": null,
     "start_time": null,
     "status": "pending"
    },
    "tags": []
   },
   "outputs": [],
   "source": [
    "plot_model(model, show_shapes=True, show_layer_names=False)"
   ]
  },
  {
   "cell_type": "code",
   "execution_count": null,
   "id": "98d41299",
   "metadata": {
    "papermill": {
     "duration": null,
     "end_time": null,
     "exception": null,
     "start_time": null,
     "status": "pending"
    },
    "tags": []
   },
   "outputs": [],
   "source": [
    "early_stop = EarlyStopping(monitor='val_loss',\n",
    "                           patience=5)"
   ]
  },
  {
   "cell_type": "code",
   "execution_count": null,
   "id": "6db9159f",
   "metadata": {
    "papermill": {
     "duration": null,
     "end_time": null,
     "exception": null,
     "start_time": null,
     "status": "pending"
    },
    "tags": []
   },
   "outputs": [],
   "source": [
    "# TRAIN MODEL\n",
    "\n",
    "model.fit(X_train,\n",
    "          Y_train, \n",
    "          epochs=50, \n",
    "          validation_data=(X_val, Y_val),\n",
    "          callbacks=[early_stop])"
   ]
  },
  {
   "cell_type": "markdown",
   "id": "3b7f5f1d",
   "metadata": {
    "papermill": {
     "duration": null,
     "end_time": null,
     "exception": null,
     "start_time": null,
     "status": "pending"
    },
    "tags": []
   },
   "source": [
    "<a id=\"sec6\"></a>\n",
    "## 6. Avaliando o modelo"
   ]
  },
  {
   "cell_type": "code",
   "execution_count": null,
   "id": "65869660",
   "metadata": {
    "papermill": {
     "duration": null,
     "end_time": null,
     "exception": null,
     "start_time": null,
     "status": "pending"
    },
    "tags": []
   },
   "outputs": [],
   "source": [
    "losses = pd.DataFrame(model.history.history)\n",
    "losses"
   ]
  },
  {
   "cell_type": "code",
   "execution_count": null,
   "id": "d779a142",
   "metadata": {
    "papermill": {
     "duration": null,
     "end_time": null,
     "exception": null,
     "start_time": null,
     "status": "pending"
    },
    "tags": []
   },
   "outputs": [],
   "source": [
    "losses[['accuracy','val_accuracy']].plot()"
   ]
  },
  {
   "cell_type": "code",
   "execution_count": null,
   "id": "8f745001",
   "metadata": {
    "papermill": {
     "duration": null,
     "end_time": null,
     "exception": null,
     "start_time": null,
     "status": "pending"
    },
    "tags": []
   },
   "outputs": [],
   "source": [
    "losses[['loss','val_loss']].plot()"
   ]
  },
  {
   "cell_type": "code",
   "execution_count": null,
   "id": "a0d0226c",
   "metadata": {
    "papermill": {
     "duration": null,
     "end_time": null,
     "exception": null,
     "start_time": null,
     "status": "pending"
    },
    "tags": []
   },
   "outputs": [],
   "source": [
    "pred_val = np.argmax(model.predict(X_val), axis=1)\n",
    "real_val = np.argmax(Y_val, axis=1)"
   ]
  },
  {
   "cell_type": "code",
   "execution_count": null,
   "id": "5c8421d9",
   "metadata": {
    "papermill": {
     "duration": null,
     "end_time": null,
     "exception": null,
     "start_time": null,
     "status": "pending"
    },
    "tags": []
   },
   "outputs": [],
   "source": [
    "print(classification_report(real_val, pred_val))"
   ]
  },
  {
   "cell_type": "code",
   "execution_count": null,
   "id": "e64b715c",
   "metadata": {
    "papermill": {
     "duration": null,
     "end_time": null,
     "exception": null,
     "start_time": null,
     "status": "pending"
    },
    "tags": []
   },
   "outputs": [],
   "source": [
    "confusion_matrix(real_val, pred_val)"
   ]
  },
  {
   "cell_type": "markdown",
   "id": "870fa0eb",
   "metadata": {
    "execution": {
     "iopub.execute_input": "2021-08-11T00:46:25.319511Z",
     "iopub.status.busy": "2021-08-11T00:46:25.31909Z",
     "iopub.status.idle": "2021-08-11T00:46:25.326406Z",
     "shell.execute_reply": "2021-08-11T00:46:25.324908Z",
     "shell.execute_reply.started": "2021-08-11T00:46:25.319478Z"
    },
    "papermill": {
     "duration": null,
     "end_time": null,
     "exception": null,
     "start_time": null,
     "status": "pending"
    },
    "tags": []
   },
   "source": [
    "<a id=\"sec7\"></a>\n",
    "## 7. Predição"
   ]
  },
  {
   "cell_type": "code",
   "execution_count": null,
   "id": "3e6c034c",
   "metadata": {
    "papermill": {
     "duration": null,
     "end_time": null,
     "exception": null,
     "start_time": null,
     "status": "pending"
    },
    "tags": []
   },
   "outputs": [],
   "source": [
    "N_test_samples = x_test.shape[0]\n",
    "\n",
    "x_test_new = x_test.reshape(N_test_samples, 28, 28, 1)\n",
    "x_test_new = x_test_new/255\n",
    "\n",
    "x_test_new.shape"
   ]
  },
  {
   "cell_type": "code",
   "execution_count": null,
   "id": "496953e1",
   "metadata": {
    "papermill": {
     "duration": null,
     "end_time": null,
     "exception": null,
     "start_time": null,
     "status": "pending"
    },
    "tags": []
   },
   "outputs": [],
   "source": [
    "predictions = model.predict(x_test_new)\n",
    "\n",
    "print(predictions.shape)\n",
    "\n",
    "predictions"
   ]
  },
  {
   "cell_type": "code",
   "execution_count": null,
   "id": "d2b4bc61",
   "metadata": {
    "papermill": {
     "duration": null,
     "end_time": null,
     "exception": null,
     "start_time": null,
     "status": "pending"
    },
    "tags": []
   },
   "outputs": [],
   "source": [
    "final_pred = np.argmax(predictions, axis=1)\n",
    "\n",
    "final_pred"
   ]
  },
  {
   "cell_type": "code",
   "execution_count": null,
   "id": "4f72d338",
   "metadata": {
    "papermill": {
     "duration": null,
     "end_time": null,
     "exception": null,
     "start_time": null,
     "status": "pending"
    },
    "tags": []
   },
   "outputs": [],
   "source": [
    "# Visualize some test prediction and corresponding digit \n",
    "\n",
    "test_index = 10\n",
    "\n",
    "plt.imshow(x_test_new[test_index], cmap='Greys')\n",
    "print(f\"Predicted value: {final_pred[test_index]}\\n\")\n"
   ]
  },
  {
   "cell_type": "markdown",
   "id": "97d3ef9b",
   "metadata": {
    "execution": {
     "iopub.execute_input": "2021-08-11T01:02:51.369067Z",
     "iopub.status.busy": "2021-08-11T01:02:51.368673Z",
     "iopub.status.idle": "2021-08-11T01:02:51.376131Z",
     "shell.execute_reply": "2021-08-11T01:02:51.374436Z",
     "shell.execute_reply.started": "2021-08-11T01:02:51.369013Z"
    },
    "papermill": {
     "duration": null,
     "end_time": null,
     "exception": null,
     "start_time": null,
     "status": "pending"
    },
    "tags": []
   },
   "source": [
    "<a id=\"sec71\"></a>\n",
    "### Gerando a submissão"
   ]
  },
  {
   "cell_type": "code",
   "execution_count": null,
   "id": "9ac35498",
   "metadata": {
    "papermill": {
     "duration": null,
     "end_time": null,
     "exception": null,
     "start_time": null,
     "status": "pending"
    },
    "tags": []
   },
   "outputs": [],
   "source": [
    "pd.read_csv(\"/kaggle/input/digit-recognizer/sample_submission.csv\")"
   ]
  },
  {
   "cell_type": "code",
   "execution_count": null,
   "id": "6f172b5e",
   "metadata": {
    "papermill": {
     "duration": null,
     "end_time": null,
     "exception": null,
     "start_time": null,
     "status": "pending"
    },
    "tags": []
   },
   "outputs": [],
   "source": [
    "submission_dict = {\"ImageId\": [i+1 for i in range(28000)],\n",
    "                   \"Label\": final_pred}\n",
    "\n",
    "sub_df = pd.DataFrame(submission_dict)\n",
    "\n",
    "sub_df"
   ]
  },
  {
   "cell_type": "code",
   "execution_count": null,
   "id": "0508d1f3",
   "metadata": {
    "papermill": {
     "duration": null,
     "end_time": null,
     "exception": null,
     "start_time": null,
     "status": "pending"
    },
    "tags": []
   },
   "outputs": [],
   "source": [
    "sub_df.to_csv(\"submission.csv\", index=False)"
   ]
  },
  {
   "cell_type": "markdown",
   "id": "be535da9",
   "metadata": {
    "execution": {
     "iopub.execute_input": "2021-08-12T20:12:10.211877Z",
     "iopub.status.busy": "2021-08-12T20:12:10.211356Z",
     "iopub.status.idle": "2021-08-12T20:12:10.224862Z",
     "shell.execute_reply": "2021-08-12T20:12:10.223272Z",
     "shell.execute_reply.started": "2021-08-12T20:12:10.211753Z"
    },
    "papermill": {
     "duration": null,
     "end_time": null,
     "exception": null,
     "start_time": null,
     "status": "pending"
    },
    "tags": []
   },
   "source": [
    "<a id=\"sec8\"></a>\n",
    "## 8. Possíveis passos futuros"
   ]
  },
  {
   "cell_type": "markdown",
   "id": "6486e2f1",
   "metadata": {
    "execution": {
     "iopub.execute_input": "2021-08-12T20:13:17.578287Z",
     "iopub.status.busy": "2021-08-12T20:13:17.577869Z",
     "iopub.status.idle": "2021-08-12T20:13:17.585148Z",
     "shell.execute_reply": "2021-08-12T20:13:17.584098Z",
     "shell.execute_reply.started": "2021-08-12T20:13:17.578243Z"
    },
    "papermill": {
     "duration": null,
     "end_time": null,
     "exception": null,
     "start_time": null,
     "status": "pending"
    },
    "tags": []
   },
   "source": [
    "* Desenvolver uma análise exploratória mais profunda\n",
    "* Realizar testes para encontrar uma seleção de variáveis mais relevante\n",
    "* Expandir o conjunto de dados utilizado\n",
    "* Implementar validação cruzada\n",
    "* Implementar uma CNN com arquitetura diferente\n",
    "* Implementar grid search\n",
    "* Comparar o aproveitamento com o de metodologias menos elaboradas"
   ]
  }
 ],
 "metadata": {
  "kernelspec": {
   "display_name": "Python 3",
   "language": "python",
   "name": "python3"
  },
  "language_info": {
   "codemirror_mode": {
    "name": "ipython",
    "version": 3
   },
   "file_extension": ".py",
   "mimetype": "text/x-python",
   "name": "python",
   "nbconvert_exporter": "python",
   "pygments_lexer": "ipython3",
   "version": "3.7.10"
  },
  "papermill": {
   "default_parameters": {},
   "duration": 15.751316,
   "end_time": "2021-10-16T18:46:31.212601",
   "environment_variables": {},
   "exception": true,
   "input_path": "__notebook__.ipynb",
   "output_path": "__notebook__.ipynb",
   "parameters": {},
   "start_time": "2021-10-16T18:46:15.461285",
   "version": "2.3.3"
  }
 },
 "nbformat": 4,
 "nbformat_minor": 5
}
