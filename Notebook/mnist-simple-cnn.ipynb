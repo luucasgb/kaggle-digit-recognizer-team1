{
 "cells": [
  {
   "cell_type": "markdown",
   "id": "b112b269",
   "metadata": {
    "execution": {
     "iopub.execute_input": "2021-08-10T21:20:48.814892Z",
     "iopub.status.busy": "2021-08-10T21:20:48.814455Z",
     "iopub.status.idle": "2021-08-10T21:20:48.823089Z",
     "shell.execute_reply": "2021-08-10T21:20:48.821146Z",
     "shell.execute_reply.started": "2021-08-10T21:20:48.814855Z"
    },
    "papermill": {
     "duration": 0.037333,
     "end_time": "2021-08-16T00:42:44.388301",
     "exception": false,
     "start_time": "2021-08-16T00:42:44.350968",
     "status": "completed"
    },
    "tags": []
   },
   "source": [
    "Sections:\n",
    "\n",
    "\n",
    "1. <a href=\"#sec1\"> Imports </a>\n",
    "2. <a href=\"#sec2\"> Load data </a>\n",
    "3. <a href=\"#sec3\"> Visualizing image data </a>\n",
    "    * <a href=\"#sec30\"> data reshaping </a>\n",
    "    * <a href=\"#sec31\"> visualization </a>\n",
    "4. <a href=\"#sec4\"> Pre-processing </a>\n",
    "    * <a href=\"#sec41\"> labels </a>\n",
    "    * <a href=\"#sec42\"> data normalization </a>\n",
    "    * <a href=\"#sec43\"> data split </a>\n",
    "5. <a href=\"#sec5\"> Define and train model </a>\n",
    "6. <a href=\"#sec6\"> Evaluate model </a>\n",
    "7. <a href=\"#sec7\"> Predict on test data </a>\n",
    "    * <a href=\"#sec71\"> generate submission </a>\n",
    "8. <a href=\"#sec8\"> Potential next steps </a>\n"
   ]
  },
  {
   "cell_type": "markdown",
   "id": "2b5b559d",
   "metadata": {
    "execution": {
     "iopub.execute_input": "2021-08-15T15:04:15.118189Z",
     "iopub.status.busy": "2021-08-15T15:04:15.117417Z",
     "iopub.status.idle": "2021-08-15T15:04:15.134802Z",
     "shell.execute_reply": "2021-08-15T15:04:15.132947Z",
     "shell.execute_reply.started": "2021-08-15T15:04:15.118053Z"
    },
    "papermill": {
     "duration": 0.031525,
     "end_time": "2021-08-16T00:42:44.454580",
     "exception": false,
     "start_time": "2021-08-16T00:42:44.423055",
     "status": "completed"
    },
    "tags": []
   },
   "source": [
    "<a id=\"sec1\"></a>\n",
    "## 1. Imports"
   ]
  },
  {
   "cell_type": "code",
   "execution_count": 1,
   "id": "46aa156c",
   "metadata": {
    "execution": {
     "iopub.execute_input": "2021-08-16T00:42:44.523048Z",
     "iopub.status.busy": "2021-08-16T00:42:44.521918Z",
     "iopub.status.idle": "2021-08-16T00:42:51.726134Z",
     "shell.execute_reply": "2021-08-16T00:42:51.726663Z",
     "shell.execute_reply.started": "2021-08-13T01:28:26.107487Z"
    },
    "papermill": {
     "duration": 7.240737,
     "end_time": "2021-08-16T00:42:51.726965",
     "exception": false,
     "start_time": "2021-08-16T00:42:44.486228",
     "status": "completed"
    },
    "tags": []
   },
   "outputs": [],
   "source": [
    "import os\n",
    "import pandas as pd\n",
    "import numpy as np\n",
    "import matplotlib.pyplot as plt\n",
    "from tensorflow.keras.utils import to_categorical\n",
    "from tensorflow.keras.models import Sequential\n",
    "from tensorflow.keras.layers import Dense, Conv2D, MaxPool2D, Flatten\n",
    "from tensorflow.keras.callbacks import EarlyStopping\n",
    "from keras.utils import plot_model\n",
    "from sklearn.model_selection import train_test_split\n",
    "from sklearn.metrics import classification_report,confusion_matrix"
   ]
  },
  {
   "cell_type": "markdown",
   "id": "7b3d69b3",
   "metadata": {
    "execution": {
     "iopub.execute_input": "2021-08-10T21:22:01.551449Z",
     "iopub.status.busy": "2021-08-10T21:22:01.551112Z",
     "iopub.status.idle": "2021-08-10T21:22:01.557442Z",
     "shell.execute_reply": "2021-08-10T21:22:01.556359Z",
     "shell.execute_reply.started": "2021-08-10T21:22:01.551421Z"
    },
    "papermill": {
     "duration": 0.031896,
     "end_time": "2021-08-16T00:42:51.790740",
     "exception": false,
     "start_time": "2021-08-16T00:42:51.758844",
     "status": "completed"
    },
    "tags": []
   },
   "source": [
    "<a id=\"sec2\"></a>\n",
    "## 2. Load data"
   ]
  },
  {
   "cell_type": "code",
   "execution_count": 2,
   "id": "9a703d14",
   "metadata": {
    "execution": {
     "iopub.execute_input": "2021-08-16T00:42:51.861021Z",
     "iopub.status.busy": "2021-08-16T00:42:51.860387Z",
     "iopub.status.idle": "2021-08-16T00:42:51.867228Z",
     "shell.execute_reply": "2021-08-16T00:42:51.867940Z",
     "shell.execute_reply.started": "2021-08-13T01:28:26.655424Z"
    },
    "papermill": {
     "duration": 0.043982,
     "end_time": "2021-08-16T00:42:51.868180",
     "exception": false,
     "start_time": "2021-08-16T00:42:51.824198",
     "status": "completed"
    },
    "tags": []
   },
   "outputs": [
    {
     "name": "stdout",
     "output_type": "stream",
     "text": [
      "/kaggle/input/digit-recognizer/sample_submission.csv\n",
      "/kaggle/input/digit-recognizer/train.csv\n",
      "/kaggle/input/digit-recognizer/test.csv\n"
     ]
    }
   ],
   "source": [
    "for dirname, _, filenames in os.walk('/kaggle/input'):\n",
    "    for filename in filenames:\n",
    "        print(os.path.join(dirname, filename))"
   ]
  },
  {
   "cell_type": "code",
   "execution_count": 3,
   "id": "c6a01fd4",
   "metadata": {
    "execution": {
     "iopub.execute_input": "2021-08-16T00:42:51.942076Z",
     "iopub.status.busy": "2021-08-16T00:42:51.941418Z",
     "iopub.status.idle": "2021-08-16T00:42:57.989148Z",
     "shell.execute_reply": "2021-08-16T00:42:57.989663Z",
     "shell.execute_reply.started": "2021-08-13T01:28:26.956508Z"
    },
    "papermill": {
     "duration": 6.088064,
     "end_time": "2021-08-16T00:42:57.989838",
     "exception": false,
     "start_time": "2021-08-16T00:42:51.901774",
     "status": "completed"
    },
    "tags": []
   },
   "outputs": [
    {
     "name": "stdout",
     "output_type": "stream",
     "text": [
      "(42000, 785)\n",
      "(28000, 784)\n"
     ]
    }
   ],
   "source": [
    "df_train = pd.read_csv(\"/kaggle/input/digit-recognizer/train.csv\")\n",
    "df_test = pd.read_csv(\"/kaggle/input/digit-recognizer/test.csv\")\n",
    "\n",
    "print(df_train.shape)\n",
    "print(df_test.shape)"
   ]
  },
  {
   "cell_type": "code",
   "execution_count": 4,
   "id": "cb3ab140",
   "metadata": {
    "execution": {
     "iopub.execute_input": "2021-08-16T00:42:58.072036Z",
     "iopub.status.busy": "2021-08-16T00:42:58.071322Z",
     "iopub.status.idle": "2021-08-16T00:42:58.100393Z",
     "shell.execute_reply": "2021-08-16T00:42:58.099840Z",
     "shell.execute_reply.started": "2021-08-13T01:28:32.020663Z"
    },
    "papermill": {
     "duration": 0.078538,
     "end_time": "2021-08-16T00:42:58.100549",
     "exception": false,
     "start_time": "2021-08-16T00:42:58.022011",
     "status": "completed"
    },
    "tags": []
   },
   "outputs": [
    {
     "data": {
      "text/html": [
       "<div>\n",
       "<style scoped>\n",
       "    .dataframe tbody tr th:only-of-type {\n",
       "        vertical-align: middle;\n",
       "    }\n",
       "\n",
       "    .dataframe tbody tr th {\n",
       "        vertical-align: top;\n",
       "    }\n",
       "\n",
       "    .dataframe thead th {\n",
       "        text-align: right;\n",
       "    }\n",
       "</style>\n",
       "<table border=\"1\" class=\"dataframe\">\n",
       "  <thead>\n",
       "    <tr style=\"text-align: right;\">\n",
       "      <th></th>\n",
       "      <th>label</th>\n",
       "      <th>pixel0</th>\n",
       "      <th>pixel1</th>\n",
       "      <th>pixel2</th>\n",
       "      <th>pixel3</th>\n",
       "      <th>pixel4</th>\n",
       "      <th>pixel5</th>\n",
       "      <th>pixel6</th>\n",
       "      <th>pixel7</th>\n",
       "      <th>pixel8</th>\n",
       "      <th>...</th>\n",
       "      <th>pixel774</th>\n",
       "      <th>pixel775</th>\n",
       "      <th>pixel776</th>\n",
       "      <th>pixel777</th>\n",
       "      <th>pixel778</th>\n",
       "      <th>pixel779</th>\n",
       "      <th>pixel780</th>\n",
       "      <th>pixel781</th>\n",
       "      <th>pixel782</th>\n",
       "      <th>pixel783</th>\n",
       "    </tr>\n",
       "  </thead>\n",
       "  <tbody>\n",
       "    <tr>\n",
       "      <th>0</th>\n",
       "      <td>1</td>\n",
       "      <td>0</td>\n",
       "      <td>0</td>\n",
       "      <td>0</td>\n",
       "      <td>0</td>\n",
       "      <td>0</td>\n",
       "      <td>0</td>\n",
       "      <td>0</td>\n",
       "      <td>0</td>\n",
       "      <td>0</td>\n",
       "      <td>...</td>\n",
       "      <td>0</td>\n",
       "      <td>0</td>\n",
       "      <td>0</td>\n",
       "      <td>0</td>\n",
       "      <td>0</td>\n",
       "      <td>0</td>\n",
       "      <td>0</td>\n",
       "      <td>0</td>\n",
       "      <td>0</td>\n",
       "      <td>0</td>\n",
       "    </tr>\n",
       "    <tr>\n",
       "      <th>1</th>\n",
       "      <td>0</td>\n",
       "      <td>0</td>\n",
       "      <td>0</td>\n",
       "      <td>0</td>\n",
       "      <td>0</td>\n",
       "      <td>0</td>\n",
       "      <td>0</td>\n",
       "      <td>0</td>\n",
       "      <td>0</td>\n",
       "      <td>0</td>\n",
       "      <td>...</td>\n",
       "      <td>0</td>\n",
       "      <td>0</td>\n",
       "      <td>0</td>\n",
       "      <td>0</td>\n",
       "      <td>0</td>\n",
       "      <td>0</td>\n",
       "      <td>0</td>\n",
       "      <td>0</td>\n",
       "      <td>0</td>\n",
       "      <td>0</td>\n",
       "    </tr>\n",
       "    <tr>\n",
       "      <th>2</th>\n",
       "      <td>1</td>\n",
       "      <td>0</td>\n",
       "      <td>0</td>\n",
       "      <td>0</td>\n",
       "      <td>0</td>\n",
       "      <td>0</td>\n",
       "      <td>0</td>\n",
       "      <td>0</td>\n",
       "      <td>0</td>\n",
       "      <td>0</td>\n",
       "      <td>...</td>\n",
       "      <td>0</td>\n",
       "      <td>0</td>\n",
       "      <td>0</td>\n",
       "      <td>0</td>\n",
       "      <td>0</td>\n",
       "      <td>0</td>\n",
       "      <td>0</td>\n",
       "      <td>0</td>\n",
       "      <td>0</td>\n",
       "      <td>0</td>\n",
       "    </tr>\n",
       "    <tr>\n",
       "      <th>3</th>\n",
       "      <td>4</td>\n",
       "      <td>0</td>\n",
       "      <td>0</td>\n",
       "      <td>0</td>\n",
       "      <td>0</td>\n",
       "      <td>0</td>\n",
       "      <td>0</td>\n",
       "      <td>0</td>\n",
       "      <td>0</td>\n",
       "      <td>0</td>\n",
       "      <td>...</td>\n",
       "      <td>0</td>\n",
       "      <td>0</td>\n",
       "      <td>0</td>\n",
       "      <td>0</td>\n",
       "      <td>0</td>\n",
       "      <td>0</td>\n",
       "      <td>0</td>\n",
       "      <td>0</td>\n",
       "      <td>0</td>\n",
       "      <td>0</td>\n",
       "    </tr>\n",
       "    <tr>\n",
       "      <th>4</th>\n",
       "      <td>0</td>\n",
       "      <td>0</td>\n",
       "      <td>0</td>\n",
       "      <td>0</td>\n",
       "      <td>0</td>\n",
       "      <td>0</td>\n",
       "      <td>0</td>\n",
       "      <td>0</td>\n",
       "      <td>0</td>\n",
       "      <td>0</td>\n",
       "      <td>...</td>\n",
       "      <td>0</td>\n",
       "      <td>0</td>\n",
       "      <td>0</td>\n",
       "      <td>0</td>\n",
       "      <td>0</td>\n",
       "      <td>0</td>\n",
       "      <td>0</td>\n",
       "      <td>0</td>\n",
       "      <td>0</td>\n",
       "      <td>0</td>\n",
       "    </tr>\n",
       "  </tbody>\n",
       "</table>\n",
       "<p>5 rows × 785 columns</p>\n",
       "</div>"
      ],
      "text/plain": [
       "   label  pixel0  pixel1  pixel2  pixel3  pixel4  pixel5  pixel6  pixel7  \\\n",
       "0      1       0       0       0       0       0       0       0       0   \n",
       "1      0       0       0       0       0       0       0       0       0   \n",
       "2      1       0       0       0       0       0       0       0       0   \n",
       "3      4       0       0       0       0       0       0       0       0   \n",
       "4      0       0       0       0       0       0       0       0       0   \n",
       "\n",
       "   pixel8  ...  pixel774  pixel775  pixel776  pixel777  pixel778  pixel779  \\\n",
       "0       0  ...         0         0         0         0         0         0   \n",
       "1       0  ...         0         0         0         0         0         0   \n",
       "2       0  ...         0         0         0         0         0         0   \n",
       "3       0  ...         0         0         0         0         0         0   \n",
       "4       0  ...         0         0         0         0         0         0   \n",
       "\n",
       "   pixel780  pixel781  pixel782  pixel783  \n",
       "0         0         0         0         0  \n",
       "1         0         0         0         0  \n",
       "2         0         0         0         0  \n",
       "3         0         0         0         0  \n",
       "4         0         0         0         0  \n",
       "\n",
       "[5 rows x 785 columns]"
      ]
     },
     "execution_count": 4,
     "metadata": {},
     "output_type": "execute_result"
    }
   ],
   "source": [
    "df_train.head()"
   ]
  },
  {
   "cell_type": "code",
   "execution_count": 5,
   "id": "40f37d34",
   "metadata": {
    "execution": {
     "iopub.execute_input": "2021-08-16T00:42:58.184890Z",
     "iopub.status.busy": "2021-08-16T00:42:58.183931Z",
     "iopub.status.idle": "2021-08-16T00:42:58.189425Z",
     "shell.execute_reply": "2021-08-16T00:42:58.188772Z",
     "shell.execute_reply.started": "2021-08-13T01:28:32.044941Z"
    },
    "papermill": {
     "duration": 0.055917,
     "end_time": "2021-08-16T00:42:58.189569",
     "exception": false,
     "start_time": "2021-08-16T00:42:58.133652",
     "status": "completed"
    },
    "tags": []
   },
   "outputs": [
    {
     "data": {
      "text/html": [
       "<div>\n",
       "<style scoped>\n",
       "    .dataframe tbody tr th:only-of-type {\n",
       "        vertical-align: middle;\n",
       "    }\n",
       "\n",
       "    .dataframe tbody tr th {\n",
       "        vertical-align: top;\n",
       "    }\n",
       "\n",
       "    .dataframe thead th {\n",
       "        text-align: right;\n",
       "    }\n",
       "</style>\n",
       "<table border=\"1\" class=\"dataframe\">\n",
       "  <thead>\n",
       "    <tr style=\"text-align: right;\">\n",
       "      <th></th>\n",
       "      <th>pixel0</th>\n",
       "      <th>pixel1</th>\n",
       "      <th>pixel2</th>\n",
       "      <th>pixel3</th>\n",
       "      <th>pixel4</th>\n",
       "      <th>pixel5</th>\n",
       "      <th>pixel6</th>\n",
       "      <th>pixel7</th>\n",
       "      <th>pixel8</th>\n",
       "      <th>pixel9</th>\n",
       "      <th>...</th>\n",
       "      <th>pixel774</th>\n",
       "      <th>pixel775</th>\n",
       "      <th>pixel776</th>\n",
       "      <th>pixel777</th>\n",
       "      <th>pixel778</th>\n",
       "      <th>pixel779</th>\n",
       "      <th>pixel780</th>\n",
       "      <th>pixel781</th>\n",
       "      <th>pixel782</th>\n",
       "      <th>pixel783</th>\n",
       "    </tr>\n",
       "  </thead>\n",
       "  <tbody>\n",
       "    <tr>\n",
       "      <th>0</th>\n",
       "      <td>0</td>\n",
       "      <td>0</td>\n",
       "      <td>0</td>\n",
       "      <td>0</td>\n",
       "      <td>0</td>\n",
       "      <td>0</td>\n",
       "      <td>0</td>\n",
       "      <td>0</td>\n",
       "      <td>0</td>\n",
       "      <td>0</td>\n",
       "      <td>...</td>\n",
       "      <td>0</td>\n",
       "      <td>0</td>\n",
       "      <td>0</td>\n",
       "      <td>0</td>\n",
       "      <td>0</td>\n",
       "      <td>0</td>\n",
       "      <td>0</td>\n",
       "      <td>0</td>\n",
       "      <td>0</td>\n",
       "      <td>0</td>\n",
       "    </tr>\n",
       "    <tr>\n",
       "      <th>1</th>\n",
       "      <td>0</td>\n",
       "      <td>0</td>\n",
       "      <td>0</td>\n",
       "      <td>0</td>\n",
       "      <td>0</td>\n",
       "      <td>0</td>\n",
       "      <td>0</td>\n",
       "      <td>0</td>\n",
       "      <td>0</td>\n",
       "      <td>0</td>\n",
       "      <td>...</td>\n",
       "      <td>0</td>\n",
       "      <td>0</td>\n",
       "      <td>0</td>\n",
       "      <td>0</td>\n",
       "      <td>0</td>\n",
       "      <td>0</td>\n",
       "      <td>0</td>\n",
       "      <td>0</td>\n",
       "      <td>0</td>\n",
       "      <td>0</td>\n",
       "    </tr>\n",
       "    <tr>\n",
       "      <th>2</th>\n",
       "      <td>0</td>\n",
       "      <td>0</td>\n",
       "      <td>0</td>\n",
       "      <td>0</td>\n",
       "      <td>0</td>\n",
       "      <td>0</td>\n",
       "      <td>0</td>\n",
       "      <td>0</td>\n",
       "      <td>0</td>\n",
       "      <td>0</td>\n",
       "      <td>...</td>\n",
       "      <td>0</td>\n",
       "      <td>0</td>\n",
       "      <td>0</td>\n",
       "      <td>0</td>\n",
       "      <td>0</td>\n",
       "      <td>0</td>\n",
       "      <td>0</td>\n",
       "      <td>0</td>\n",
       "      <td>0</td>\n",
       "      <td>0</td>\n",
       "    </tr>\n",
       "    <tr>\n",
       "      <th>3</th>\n",
       "      <td>0</td>\n",
       "      <td>0</td>\n",
       "      <td>0</td>\n",
       "      <td>0</td>\n",
       "      <td>0</td>\n",
       "      <td>0</td>\n",
       "      <td>0</td>\n",
       "      <td>0</td>\n",
       "      <td>0</td>\n",
       "      <td>0</td>\n",
       "      <td>...</td>\n",
       "      <td>0</td>\n",
       "      <td>0</td>\n",
       "      <td>0</td>\n",
       "      <td>0</td>\n",
       "      <td>0</td>\n",
       "      <td>0</td>\n",
       "      <td>0</td>\n",
       "      <td>0</td>\n",
       "      <td>0</td>\n",
       "      <td>0</td>\n",
       "    </tr>\n",
       "    <tr>\n",
       "      <th>4</th>\n",
       "      <td>0</td>\n",
       "      <td>0</td>\n",
       "      <td>0</td>\n",
       "      <td>0</td>\n",
       "      <td>0</td>\n",
       "      <td>0</td>\n",
       "      <td>0</td>\n",
       "      <td>0</td>\n",
       "      <td>0</td>\n",
       "      <td>0</td>\n",
       "      <td>...</td>\n",
       "      <td>0</td>\n",
       "      <td>0</td>\n",
       "      <td>0</td>\n",
       "      <td>0</td>\n",
       "      <td>0</td>\n",
       "      <td>0</td>\n",
       "      <td>0</td>\n",
       "      <td>0</td>\n",
       "      <td>0</td>\n",
       "      <td>0</td>\n",
       "    </tr>\n",
       "  </tbody>\n",
       "</table>\n",
       "<p>5 rows × 784 columns</p>\n",
       "</div>"
      ],
      "text/plain": [
       "   pixel0  pixel1  pixel2  pixel3  pixel4  pixel5  pixel6  pixel7  pixel8  \\\n",
       "0       0       0       0       0       0       0       0       0       0   \n",
       "1       0       0       0       0       0       0       0       0       0   \n",
       "2       0       0       0       0       0       0       0       0       0   \n",
       "3       0       0       0       0       0       0       0       0       0   \n",
       "4       0       0       0       0       0       0       0       0       0   \n",
       "\n",
       "   pixel9  ...  pixel774  pixel775  pixel776  pixel777  pixel778  pixel779  \\\n",
       "0       0  ...         0         0         0         0         0         0   \n",
       "1       0  ...         0         0         0         0         0         0   \n",
       "2       0  ...         0         0         0         0         0         0   \n",
       "3       0  ...         0         0         0         0         0         0   \n",
       "4       0  ...         0         0         0         0         0         0   \n",
       "\n",
       "   pixel780  pixel781  pixel782  pixel783  \n",
       "0         0         0         0         0  \n",
       "1         0         0         0         0  \n",
       "2         0         0         0         0  \n",
       "3         0         0         0         0  \n",
       "4         0         0         0         0  \n",
       "\n",
       "[5 rows x 784 columns]"
      ]
     },
     "execution_count": 5,
     "metadata": {},
     "output_type": "execute_result"
    }
   ],
   "source": [
    "df_test.head()"
   ]
  },
  {
   "cell_type": "code",
   "execution_count": 6,
   "id": "00bdead9",
   "metadata": {
    "execution": {
     "iopub.execute_input": "2021-08-16T00:42:58.263535Z",
     "iopub.status.busy": "2021-08-16T00:42:58.262277Z",
     "iopub.status.idle": "2021-08-16T00:42:58.473329Z",
     "shell.execute_reply": "2021-08-16T00:42:58.473876Z",
     "shell.execute_reply.started": "2021-08-13T01:28:32.083179Z"
    },
    "papermill": {
     "duration": 0.250536,
     "end_time": "2021-08-16T00:42:58.474075",
     "exception": false,
     "start_time": "2021-08-16T00:42:58.223539",
     "status": "completed"
    },
    "tags": []
   },
   "outputs": [],
   "source": [
    "x_train_temp = np.array(df_train.iloc[:, 1:])\n",
    "y_train = np.array(df_train.iloc[:, 0])\n",
    "\n",
    "x_test = np.array(df_test)"
   ]
  },
  {
   "cell_type": "markdown",
   "id": "28e2da16",
   "metadata": {
    "execution": {
     "iopub.execute_input": "2021-08-10T21:22:33.711394Z",
     "iopub.status.busy": "2021-08-10T21:22:33.710875Z",
     "iopub.status.idle": "2021-08-10T21:22:33.715805Z",
     "shell.execute_reply": "2021-08-10T21:22:33.714812Z",
     "shell.execute_reply.started": "2021-08-10T21:22:33.71136Z"
    },
    "papermill": {
     "duration": 0.035759,
     "end_time": "2021-08-16T00:42:58.544132",
     "exception": false,
     "start_time": "2021-08-16T00:42:58.508373",
     "status": "completed"
    },
    "tags": []
   },
   "source": [
    "<a id=\"sec3\"></a>\n",
    "## 3. Visualizing image data"
   ]
  },
  {
   "cell_type": "markdown",
   "id": "9d538031",
   "metadata": {
    "execution": {
     "iopub.execute_input": "2021-08-10T21:24:02.754518Z",
     "iopub.status.busy": "2021-08-10T21:24:02.754204Z",
     "iopub.status.idle": "2021-08-10T21:24:02.759963Z",
     "shell.execute_reply": "2021-08-10T21:24:02.758981Z",
     "shell.execute_reply.started": "2021-08-10T21:24:02.754491Z"
    },
    "papermill": {
     "duration": 0.033301,
     "end_time": "2021-08-16T00:42:58.612015",
     "exception": false,
     "start_time": "2021-08-16T00:42:58.578714",
     "status": "completed"
    },
    "tags": []
   },
   "source": [
    "<a id=\"sec30\"></a>\n",
    "### data reshaping"
   ]
  },
  {
   "cell_type": "code",
   "execution_count": 7,
   "id": "4993005d",
   "metadata": {
    "execution": {
     "iopub.execute_input": "2021-08-16T00:42:58.687404Z",
     "iopub.status.busy": "2021-08-16T00:42:58.686425Z",
     "iopub.status.idle": "2021-08-16T00:42:58.689701Z",
     "shell.execute_reply": "2021-08-16T00:42:58.689050Z",
     "shell.execute_reply.started": "2021-08-13T01:28:32.325523Z"
    },
    "papermill": {
     "duration": 0.043256,
     "end_time": "2021-08-16T00:42:58.689838",
     "exception": false,
     "start_time": "2021-08-16T00:42:58.646582",
     "status": "completed"
    },
    "tags": []
   },
   "outputs": [],
   "source": [
    "N_train_samples = x_train_temp.shape[0]\n",
    "x_train = x_train_temp.reshape(N_train_samples, 28, 28, 1)"
   ]
  },
  {
   "cell_type": "markdown",
   "id": "26437773",
   "metadata": {
    "execution": {
     "iopub.execute_input": "2021-08-11T01:11:46.479635Z",
     "iopub.status.busy": "2021-08-11T01:11:46.479238Z",
     "iopub.status.idle": "2021-08-11T01:11:46.485938Z",
     "shell.execute_reply": "2021-08-11T01:11:46.484454Z",
     "shell.execute_reply.started": "2021-08-11T01:11:46.479603Z"
    },
    "papermill": {
     "duration": 0.033402,
     "end_time": "2021-08-16T00:42:58.757621",
     "exception": false,
     "start_time": "2021-08-16T00:42:58.724219",
     "status": "completed"
    },
    "tags": []
   },
   "source": [
    "<a id=\"sec31\"></a>\n",
    "### visualization"
   ]
  },
  {
   "cell_type": "code",
   "execution_count": 8,
   "id": "9ba183bd",
   "metadata": {
    "execution": {
     "iopub.execute_input": "2021-08-16T00:42:58.846682Z",
     "iopub.status.busy": "2021-08-16T00:42:58.845589Z",
     "iopub.status.idle": "2021-08-16T00:42:59.941278Z",
     "shell.execute_reply": "2021-08-16T00:42:59.940703Z",
     "shell.execute_reply.started": "2021-08-13T01:28:32.333929Z"
    },
    "papermill": {
     "duration": 1.149766,
     "end_time": "2021-08-16T00:42:59.941423",
     "exception": false,
     "start_time": "2021-08-16T00:42:58.791657",
     "status": "completed"
    },
    "tags": []
   },
   "outputs": [
    {
     "data": {
      "image/png": "[encoded data removed]",
      "text/plain": [
       "<Figure size 2160x1080 with 10 Axes>"
      ]
     },
     "metadata": {
      "needs_background": "light"
     },
     "output_type": "display_data"
    }
   ],
   "source": [
    "plt.figure(figsize=(30, 15))\n",
    "\n",
    "n = 10\n",
    "\n",
    "for i in range(n):\n",
    "    plt.subplot(1, n, i+1)\n",
    "    img = x_train[i]\n",
    "    plt.imshow(img, cmap='Greys')\n",
    "plt.show()"
   ]
  },
  {
   "cell_type": "markdown",
   "id": "2f174d92",
   "metadata": {
    "execution": {
     "iopub.execute_input": "2021-08-10T21:22:51.337421Z",
     "iopub.status.busy": "2021-08-10T21:22:51.336907Z",
     "iopub.status.idle": "2021-08-10T21:22:51.343544Z",
     "shell.execute_reply": "2021-08-10T21:22:51.34223Z",
     "shell.execute_reply.started": "2021-08-10T21:22:51.337375Z"
    },
    "papermill": {
     "duration": 0.035485,
     "end_time": "2021-08-16T00:43:00.012855",
     "exception": false,
     "start_time": "2021-08-16T00:42:59.977370",
     "status": "completed"
    },
    "tags": []
   },
   "source": [
    "<a id=\"sec4\"></a>\n",
    "## 4. Pre-processing"
   ]
  },
  {
   "cell_type": "markdown",
   "id": "18b06827",
   "metadata": {
    "execution": {
     "iopub.execute_input": "2021-08-10T21:23:03.651039Z",
     "iopub.status.busy": "2021-08-10T21:23:03.650322Z",
     "iopub.status.idle": "2021-08-10T21:23:03.659239Z",
     "shell.execute_reply": "2021-08-10T21:23:03.657242Z",
     "shell.execute_reply.started": "2021-08-10T21:23:03.650983Z"
    },
    "papermill": {
     "duration": 0.034954,
     "end_time": "2021-08-16T00:43:00.082512",
     "exception": false,
     "start_time": "2021-08-16T00:43:00.047558",
     "status": "completed"
    },
    "tags": []
   },
   "source": [
    "<a id=\"sec41\"></a>\n",
    "### labels"
   ]
  },
  {
   "cell_type": "code",
   "execution_count": 9,
   "id": "4a07e551",
   "metadata": {
    "execution": {
     "iopub.execute_input": "2021-08-16T00:43:00.158274Z",
     "iopub.status.busy": "2021-08-16T00:43:00.157613Z",
     "iopub.status.idle": "2021-08-16T00:43:00.161719Z",
     "shell.execute_reply": "2021-08-16T00:43:00.161123Z",
     "shell.execute_reply.started": "2021-08-13T01:28:33.346989Z"
    },
    "papermill": {
     "duration": 0.044436,
     "end_time": "2021-08-16T00:43:00.161865",
     "exception": false,
     "start_time": "2021-08-16T00:43:00.117429",
     "status": "completed"
    },
    "tags": []
   },
   "outputs": [
    {
     "data": {
      "text/plain": [
       "array([1, 0, 1, ..., 7, 6, 9])"
      ]
     },
     "execution_count": 9,
     "metadata": {},
     "output_type": "execute_result"
    }
   ],
   "source": [
    "y_train"
   ]
  },
  {
   "cell_type": "code",
   "execution_count": 10,
   "id": "34dfc835",
   "metadata": {
    "execution": {
     "iopub.execute_input": "2021-08-16T00:43:00.238687Z",
     "iopub.status.busy": "2021-08-16T00:43:00.237782Z",
     "iopub.status.idle": "2021-08-16T00:43:00.244293Z",
     "shell.execute_reply": "2021-08-16T00:43:00.244762Z",
     "shell.execute_reply.started": "2021-08-13T01:28:33.355071Z"
    },
    "papermill": {
     "duration": 0.046656,
     "end_time": "2021-08-16T00:43:00.244941",
     "exception": false,
     "start_time": "2021-08-16T00:43:00.198285",
     "status": "completed"
    },
    "tags": []
   },
   "outputs": [
    {
     "data": {
      "text/plain": [
       "array([[0., 1., 0., ..., 0., 0., 0.],\n",
       "       [1., 0., 0., ..., 0., 0., 0.],\n",
       "       [0., 1., 0., ..., 0., 0., 0.],\n",
       "       ...,\n",
       "       [0., 0., 0., ..., 1., 0., 0.],\n",
       "       [0., 0., 0., ..., 0., 0., 0.],\n",
       "       [0., 0., 0., ..., 0., 0., 1.]], dtype=float32)"
      ]
     },
     "execution_count": 10,
     "metadata": {},
     "output_type": "execute_result"
    }
   ],
   "source": [
    "y_cat_train = to_categorical(y_train)\n",
    "y_cat_train"
   ]
  },
  {
   "cell_type": "markdown",
   "id": "e07b4654",
   "metadata": {
    "execution": {
     "iopub.execute_input": "2021-08-10T21:23:25.18572Z",
     "iopub.status.busy": "2021-08-10T21:23:25.18537Z",
     "iopub.status.idle": "2021-08-10T21:23:25.191817Z",
     "shell.execute_reply": "2021-08-10T21:23:25.19024Z",
     "shell.execute_reply.started": "2021-08-10T21:23:25.18569Z"
    },
    "papermill": {
     "duration": 0.036808,
     "end_time": "2021-08-16T00:43:00.317437",
     "exception": false,
     "start_time": "2021-08-16T00:43:00.280629",
     "status": "completed"
    },
    "tags": []
   },
   "source": [
    "<a id=\"sec42\"></a>\n",
    "### data normalization"
   ]
  },
  {
   "cell_type": "code",
   "execution_count": 11,
   "id": "86235a96",
   "metadata": {
    "execution": {
     "iopub.execute_input": "2021-08-16T00:43:00.393403Z",
     "iopub.status.busy": "2021-08-16T00:43:00.392745Z",
     "iopub.status.idle": "2021-08-16T00:43:00.528442Z",
     "shell.execute_reply": "2021-08-16T00:43:00.527813Z",
     "shell.execute_reply.started": "2021-08-13T01:28:33.374285Z"
    },
    "papermill": {
     "duration": 0.176018,
     "end_time": "2021-08-16T00:43:00.528590",
     "exception": false,
     "start_time": "2021-08-16T00:43:00.352572",
     "status": "completed"
    },
    "tags": []
   },
   "outputs": [],
   "source": [
    "x_train = x_train/255"
   ]
  },
  {
   "cell_type": "markdown",
   "id": "00639539",
   "metadata": {
    "execution": {
     "iopub.execute_input": "2021-08-10T22:02:55.769302Z",
     "iopub.status.busy": "2021-08-10T22:02:55.768933Z",
     "iopub.status.idle": "2021-08-10T22:02:55.775056Z",
     "shell.execute_reply": "2021-08-10T22:02:55.773706Z",
     "shell.execute_reply.started": "2021-08-10T22:02:55.769269Z"
    },
    "papermill": {
     "duration": 0.036474,
     "end_time": "2021-08-16T00:43:00.602186",
     "exception": false,
     "start_time": "2021-08-16T00:43:00.565712",
     "status": "completed"
    },
    "tags": []
   },
   "source": [
    "<a id=\"sec43\"></a>\n",
    "### data split"
   ]
  },
  {
   "cell_type": "code",
   "execution_count": 12,
   "id": "d1bd9e7a",
   "metadata": {
    "execution": {
     "iopub.execute_input": "2021-08-16T00:43:00.680269Z",
     "iopub.status.busy": "2021-08-16T00:43:00.679616Z",
     "iopub.status.idle": "2021-08-16T00:43:01.116465Z",
     "shell.execute_reply": "2021-08-16T00:43:01.115891Z",
     "shell.execute_reply.started": "2021-08-13T01:28:33.491358Z"
    },
    "papermill": {
     "duration": 0.479424,
     "end_time": "2021-08-16T00:43:01.116627",
     "exception": false,
     "start_time": "2021-08-16T00:43:00.637203",
     "status": "completed"
    },
    "tags": []
   },
   "outputs": [],
   "source": [
    "X_train, X_val, Y_train, Y_val = train_test_split(x_train, y_cat_train, test_size=0.2, random_state=42)"
   ]
  },
  {
   "cell_type": "markdown",
   "id": "200c3d10",
   "metadata": {
    "execution": {
     "iopub.execute_input": "2021-08-10T21:24:20.608729Z",
     "iopub.status.busy": "2021-08-10T21:24:20.608375Z",
     "iopub.status.idle": "2021-08-10T21:24:20.615044Z",
     "shell.execute_reply": "2021-08-10T21:24:20.613809Z",
     "shell.execute_reply.started": "2021-08-10T21:24:20.608697Z"
    },
    "papermill": {
     "duration": 0.03668,
     "end_time": "2021-08-16T00:43:01.188801",
     "exception": false,
     "start_time": "2021-08-16T00:43:01.152121",
     "status": "completed"
    },
    "tags": []
   },
   "source": [
    "<a id=\"sec5\"></a>\n",
    "## 5. Define and train model"
   ]
  },
  {
   "cell_type": "code",
   "execution_count": 13,
   "id": "233f9577",
   "metadata": {
    "execution": {
     "iopub.execute_input": "2021-08-16T00:43:01.266723Z",
     "iopub.status.busy": "2021-08-16T00:43:01.266051Z",
     "iopub.status.idle": "2021-08-16T00:43:01.408753Z",
     "shell.execute_reply": "2021-08-16T00:43:01.408168Z",
     "shell.execute_reply.started": "2021-08-13T01:28:35.070976Z"
    },
    "papermill": {
     "duration": 0.184721,
     "end_time": "2021-08-16T00:43:01.408911",
     "exception": false,
     "start_time": "2021-08-16T00:43:01.224190",
     "status": "completed"
    },
    "tags": []
   },
   "outputs": [],
   "source": [
    "model = Sequential()\n",
    "\n",
    "model.add(Conv2D(filters=32, kernel_size=(4,4), input_shape=(28, 28, 1), activation='relu'))\n",
    "model.add(MaxPool2D(pool_size=(2, 2)))\n",
    "model.add(Flatten())\n",
    "model.add(Dense(128, activation='relu'))\n",
    "model.add(Dense(64, activation='relu'))\n",
    "model.add(Dense(10, activation='softmax'))\n",
    "\n",
    "model.compile(loss='categorical_crossentropy',\n",
    "              optimizer='adam',\n",
    "              metrics=['accuracy'])"
   ]
  },
  {
   "cell_type": "code",
   "execution_count": 14,
   "id": "e1651e19",
   "metadata": {
    "execution": {
     "iopub.execute_input": "2021-08-16T00:43:01.488914Z",
     "iopub.status.busy": "2021-08-16T00:43:01.488149Z",
     "iopub.status.idle": "2021-08-16T00:43:01.494845Z",
     "shell.execute_reply": "2021-08-16T00:43:01.495379Z",
     "shell.execute_reply.started": "2021-08-13T01:28:37.384328Z"
    },
    "papermill": {
     "duration": 0.051191,
     "end_time": "2021-08-16T00:43:01.495569",
     "exception": false,
     "start_time": "2021-08-16T00:43:01.444378",
     "status": "completed"
    },
    "tags": []
   },
   "outputs": [
    {
     "name": "stdout",
     "output_type": "stream",
     "text": [
      "Model: \"sequential\"\n",
      "_________________________________________________________________\n",
      "Layer (type)                 Output Shape              Param #   \n",
      "=================================================================\n",
      "conv2d (Conv2D)              (None, 25, 25, 32)        544       \n",
      "_________________________________________________________________\n",
      "max_pooling2d (MaxPooling2D) (None, 12, 12, 32)        0         \n",
      "_________________________________________________________________\n",
      "flatten (Flatten)            (None, 4608)              0         \n",
      "_________________________________________________________________\n",
      "dense (Dense)                (None, 128)               589952    \n",
      "_________________________________________________________________\n",
      "dense_1 (Dense)              (None, 64)                8256      \n",
      "_________________________________________________________________\n",
      "dense_2 (Dense)              (None, 10)                650       \n",
      "=================================================================\n",
      "Total params: 599,402\n",
      "Trainable params: 599,402\n",
      "Non-trainable params: 0\n",
      "_________________________________________________________________\n"
     ]
    }
   ],
   "source": [
    "model.summary()"
   ]
  },
  {
   "cell_type": "code",
   "execution_count": 15,
   "id": "e605e322",
   "metadata": {
    "execution": {
     "iopub.execute_input": "2021-08-16T00:43:01.571110Z",
     "iopub.status.busy": "2021-08-16T00:43:01.570355Z",
     "iopub.status.idle": "2021-08-16T00:43:02.071496Z",
     "shell.execute_reply": "2021-08-16T00:43:02.070916Z",
     "shell.execute_reply.started": "2021-08-13T01:28:38.20724Z"
    },
    "papermill": {
     "duration": 0.539707,
     "end_time": "2021-08-16T00:43:02.071644",
     "exception": false,
     "start_time": "2021-08-16T00:43:01.531937",
     "status": "completed"
    },
    "tags": []
   },
   "outputs": [
    {
     "data": {
      "image/png": "[encoded data removed]",
      "text/plain": [
       "<IPython.core.display.Image object>"
      ]
     },
     "execution_count": 15,
     "metadata": {},
     "output_type": "execute_result"
    }
   ],
   "source": [
    "plot_model(model, show_shapes=True, show_layer_names=False)"
   ]
  },
  {
   "cell_type": "code",
   "execution_count": 16,
   "id": "f38ce311",
   "metadata": {
    "execution": {
     "iopub.execute_input": "2021-08-16T00:43:02.152765Z",
     "iopub.status.busy": "2021-08-16T00:43:02.151766Z",
     "iopub.status.idle": "2021-08-16T00:43:02.154974Z",
     "shell.execute_reply": "2021-08-16T00:43:02.154414Z",
     "shell.execute_reply.started": "2021-08-13T01:28:40.34237Z"
    },
    "papermill": {
     "duration": 0.045938,
     "end_time": "2021-08-16T00:43:02.155146",
     "exception": false,
     "start_time": "2021-08-16T00:43:02.109208",
     "status": "completed"
    },
    "tags": []
   },
   "outputs": [],
   "source": [
    "early_stop = EarlyStopping(monitor='val_loss',\n",
    "                           patience=5)"
   ]
  },
  {
   "cell_type": "code",
   "execution_count": 17,
   "id": "e776fbe1",
   "metadata": {
    "execution": {
     "iopub.execute_input": "2021-08-16T00:43:02.235522Z",
     "iopub.status.busy": "2021-08-16T00:43:02.234861Z",
     "iopub.status.idle": "2021-08-16T00:45:00.847764Z",
     "shell.execute_reply": "2021-08-16T00:45:00.846752Z",
     "shell.execute_reply.started": "2021-08-13T01:29:00.273341Z"
    },
    "papermill": {
     "duration": 118.655756,
     "end_time": "2021-08-16T00:45:00.848195",
     "exception": false,
     "start_time": "2021-08-16T00:43:02.192439",
     "status": "completed"
    },
    "tags": []
   },
   "outputs": [
    {
     "name": "stdout",
     "output_type": "stream",
     "text": [
      "Epoch 1/30\n",
      "1050/1050 [==============================] - 13s 12ms/step - loss: 0.4145 - accuracy: 0.8776 - val_loss: 0.0846 - val_accuracy: 0.9748\n",
      "Epoch 2/30\n",
      "1050/1050 [==============================] - 12s 11ms/step - loss: 0.0660 - accuracy: 0.9803 - val_loss: 0.0689 - val_accuracy: 0.9781\n",
      "Epoch 3/30\n",
      "1050/1050 [==============================] - 12s 11ms/step - loss: 0.0356 - accuracy: 0.9879 - val_loss: 0.0621 - val_accuracy: 0.9815\n",
      "Epoch 4/30\n",
      "1050/1050 [==============================] - 12s 11ms/step - loss: 0.0249 - accuracy: 0.9920 - val_loss: 0.0559 - val_accuracy: 0.9831\n",
      "Epoch 5/30\n",
      "1050/1050 [==============================] - 12s 11ms/step - loss: 0.0197 - accuracy: 0.9941 - val_loss: 0.0489 - val_accuracy: 0.9854\n",
      "Epoch 6/30\n",
      "1050/1050 [==============================] - 11s 11ms/step - loss: 0.0150 - accuracy: 0.9951 - val_loss: 0.0618 - val_accuracy: 0.9840\n",
      "Epoch 7/30\n",
      "1050/1050 [==============================] - 11s 11ms/step - loss: 0.0122 - accuracy: 0.9956 - val_loss: 0.0506 - val_accuracy: 0.9880\n",
      "Epoch 8/30\n",
      "1050/1050 [==============================] - 12s 11ms/step - loss: 0.0074 - accuracy: 0.9976 - val_loss: 0.0536 - val_accuracy: 0.9864\n",
      "Epoch 9/30\n",
      "1050/1050 [==============================] - 11s 11ms/step - loss: 0.0075 - accuracy: 0.9978 - val_loss: 0.0601 - val_accuracy: 0.9846\n",
      "Epoch 10/30\n",
      "1050/1050 [==============================] - 12s 11ms/step - loss: 0.0073 - accuracy: 0.9980 - val_loss: 0.0637 - val_accuracy: 0.9838\n"
     ]
    },
    {
     "data": {
      "text/plain": [
       "<tensorflow.python.keras.callbacks.History at 0x7f42ce7f9250>"
      ]
     },
     "execution_count": 17,
     "metadata": {},
     "output_type": "execute_result"
    }
   ],
   "source": [
    "# TRAIN MODEL\n",
    "\n",
    "model.fit(X_train,\n",
    "          Y_train, \n",
    "          epochs=30, \n",
    "          validation_data=(X_val, Y_val),\n",
    "          callbacks=[early_stop])"
   ]
  },
  {
   "cell_type": "markdown",
   "id": "94ea40a1",
   "metadata": {
    "papermill": {
     "duration": 0.627711,
     "end_time": "2021-08-16T00:45:02.102190",
     "exception": false,
     "start_time": "2021-08-16T00:45:01.474479",
     "status": "completed"
    },
    "tags": []
   },
   "source": [
    "<a id=\"sec6\"></a>\n",
    "## 6. Evaluate model"
   ]
  },
  {
   "cell_type": "code",
   "execution_count": 18,
   "id": "d0d58414",
   "metadata": {
    "execution": {
     "iopub.execute_input": "2021-08-16T00:45:03.378212Z",
     "iopub.status.busy": "2021-08-16T00:45:03.377288Z",
     "iopub.status.idle": "2021-08-16T00:45:03.381074Z",
     "shell.execute_reply": "2021-08-16T00:45:03.381534Z",
     "shell.execute_reply.started": "2021-08-13T01:48:27.429686Z"
    },
    "papermill": {
     "duration": 0.65326,
     "end_time": "2021-08-16T00:45:03.381705",
     "exception": false,
     "start_time": "2021-08-16T00:45:02.728445",
     "status": "completed"
    },
    "tags": []
   },
   "outputs": [
    {
     "data": {
      "text/html": [
       "<div>\n",
       "<style scoped>\n",
       "    .dataframe tbody tr th:only-of-type {\n",
       "        vertical-align: middle;\n",
       "    }\n",
       "\n",
       "    .dataframe tbody tr th {\n",
       "        vertical-align: top;\n",
       "    }\n",
       "\n",
       "    .dataframe thead th {\n",
       "        text-align: right;\n",
       "    }\n",
       "</style>\n",
       "<table border=\"1\" class=\"dataframe\">\n",
       "  <thead>\n",
       "    <tr style=\"text-align: right;\">\n",
       "      <th></th>\n",
       "      <th>loss</th>\n",
       "      <th>accuracy</th>\n",
       "      <th>val_loss</th>\n",
       "      <th>val_accuracy</th>\n",
       "    </tr>\n",
       "  </thead>\n",
       "  <tbody>\n",
       "    <tr>\n",
       "      <th>0</th>\n",
       "      <td>0.204339</td>\n",
       "      <td>0.938214</td>\n",
       "      <td>0.084573</td>\n",
       "      <td>0.974762</td>\n",
       "    </tr>\n",
       "    <tr>\n",
       "      <th>1</th>\n",
       "      <td>0.064566</td>\n",
       "      <td>0.980149</td>\n",
       "      <td>0.068902</td>\n",
       "      <td>0.978095</td>\n",
       "    </tr>\n",
       "    <tr>\n",
       "      <th>2</th>\n",
       "      <td>0.039978</td>\n",
       "      <td>0.986905</td>\n",
       "      <td>0.062127</td>\n",
       "      <td>0.981548</td>\n",
       "    </tr>\n",
       "    <tr>\n",
       "      <th>3</th>\n",
       "      <td>0.027453</td>\n",
       "      <td>0.991071</td>\n",
       "      <td>0.055898</td>\n",
       "      <td>0.983095</td>\n",
       "    </tr>\n",
       "    <tr>\n",
       "      <th>4</th>\n",
       "      <td>0.020533</td>\n",
       "      <td>0.993482</td>\n",
       "      <td>0.048915</td>\n",
       "      <td>0.985357</td>\n",
       "    </tr>\n",
       "    <tr>\n",
       "      <th>5</th>\n",
       "      <td>0.016130</td>\n",
       "      <td>0.994792</td>\n",
       "      <td>0.061831</td>\n",
       "      <td>0.984048</td>\n",
       "    </tr>\n",
       "    <tr>\n",
       "      <th>6</th>\n",
       "      <td>0.012761</td>\n",
       "      <td>0.995625</td>\n",
       "      <td>0.050641</td>\n",
       "      <td>0.987976</td>\n",
       "    </tr>\n",
       "    <tr>\n",
       "      <th>7</th>\n",
       "      <td>0.009554</td>\n",
       "      <td>0.996994</td>\n",
       "      <td>0.053638</td>\n",
       "      <td>0.986429</td>\n",
       "    </tr>\n",
       "    <tr>\n",
       "      <th>8</th>\n",
       "      <td>0.011070</td>\n",
       "      <td>0.996429</td>\n",
       "      <td>0.060060</td>\n",
       "      <td>0.984643</td>\n",
       "    </tr>\n",
       "    <tr>\n",
       "      <th>9</th>\n",
       "      <td>0.007163</td>\n",
       "      <td>0.997619</td>\n",
       "      <td>0.063732</td>\n",
       "      <td>0.983810</td>\n",
       "    </tr>\n",
       "  </tbody>\n",
       "</table>\n",
       "</div>"
      ],
      "text/plain": [
       "       loss  accuracy  val_loss  val_accuracy\n",
       "0  0.204339  0.938214  0.084573      0.974762\n",
       "1  0.064566  0.980149  0.068902      0.978095\n",
       "2  0.039978  0.986905  0.062127      0.981548\n",
       "3  0.027453  0.991071  0.055898      0.983095\n",
       "4  0.020533  0.993482  0.048915      0.985357\n",
       "5  0.016130  0.994792  0.061831      0.984048\n",
       "6  0.012761  0.995625  0.050641      0.987976\n",
       "7  0.009554  0.996994  0.053638      0.986429\n",
       "8  0.011070  0.996429  0.060060      0.984643\n",
       "9  0.007163  0.997619  0.063732      0.983810"
      ]
     },
     "execution_count": 18,
     "metadata": {},
     "output_type": "execute_result"
    }
   ],
   "source": [
    "losses = pd.DataFrame(model.history.history)\n",
    "losses"
   ]
  },
  {
   "cell_type": "code",
   "execution_count": 19,
   "id": "7cb2a4b5",
   "metadata": {
    "execution": {
     "iopub.execute_input": "2021-08-16T00:45:04.689546Z",
     "iopub.status.busy": "2021-08-16T00:45:04.688601Z",
     "iopub.status.idle": "2021-08-16T00:45:04.922512Z",
     "shell.execute_reply": "2021-08-16T00:45:04.921933Z",
     "shell.execute_reply.started": "2021-08-13T01:48:28.57828Z"
    },
    "papermill": {
     "duration": 0.86531,
     "end_time": "2021-08-16T00:45:04.922660",
     "exception": false,
     "start_time": "2021-08-16T00:45:04.057350",
     "status": "completed"
    },
    "tags": []
   },
   "outputs": [
    {
     "data": {
      "text/plain": [
       "<AxesSubplot:>"
      ]
     },
     "execution_count": 19,
     "metadata": {},
     "output_type": "execute_result"
    },
    {
     "data": {
      "image/png": "[encoded data removed]",
      "text/plain": [
       "<Figure size 432x288 with 1 Axes>"
      ]
     },
     "metadata": {
      "needs_background": "light"
     },
     "output_type": "display_data"
    }
   ],
   "source": [
    "losses[['accuracy','val_accuracy']].plot()"
   ]
  },
  {
   "cell_type": "code",
   "execution_count": 20,
   "id": "bcba50bc",
   "metadata": {
    "execution": {
     "iopub.execute_input": "2021-08-16T00:45:06.248309Z",
     "iopub.status.busy": "2021-08-16T00:45:06.244655Z",
     "iopub.status.idle": "2021-08-16T00:45:06.435391Z",
     "shell.execute_reply": "2021-08-16T00:45:06.434822Z",
     "shell.execute_reply.started": "2021-08-13T01:48:31.827882Z"
    },
    "papermill": {
     "duration": 0.872286,
     "end_time": "2021-08-16T00:45:06.435548",
     "exception": false,
     "start_time": "2021-08-16T00:45:05.563262",
     "status": "completed"
    },
    "tags": []
   },
   "outputs": [
    {
     "data": {
      "text/plain": [
       "<AxesSubplot:>"
      ]
     },
     "execution_count": 20,
     "metadata": {},
     "output_type": "execute_result"
    },
    {
     "data": {
      "image/png": "[encoded data removed]",
      "text/plain": [
       "<Figure size 432x288 with 1 Axes>"
      ]
     },
     "metadata": {
      "needs_background": "light"
     },
     "output_type": "display_data"
    }
   ],
   "source": [
    "losses[['loss','val_loss']].plot()"
   ]
  },
  {
   "cell_type": "code",
   "execution_count": 21,
   "id": "a526ac55",
   "metadata": {
    "execution": {
     "iopub.execute_input": "2021-08-16T00:45:07.767755Z",
     "iopub.status.busy": "2021-08-16T00:45:07.767078Z",
     "iopub.status.idle": "2021-08-16T00:45:08.806123Z",
     "shell.execute_reply": "2021-08-16T00:45:08.804994Z",
     "shell.execute_reply.started": "2021-08-13T01:48:35.850138Z"
    },
    "papermill": {
     "duration": 1.701549,
     "end_time": "2021-08-16T00:45:08.806283",
     "exception": false,
     "start_time": "2021-08-16T00:45:07.104734",
     "status": "completed"
    },
    "tags": []
   },
   "outputs": [],
   "source": [
    "pred_val = np.argmax(model.predict(X_val), axis=1)\n",
    "real_val = np.argmax(Y_val, axis=1)"
   ]
  },
  {
   "cell_type": "code",
   "execution_count": 22,
   "id": "8ce6eec5",
   "metadata": {
    "execution": {
     "iopub.execute_input": "2021-08-16T00:45:10.169388Z",
     "iopub.status.busy": "2021-08-16T00:45:10.168616Z",
     "iopub.status.idle": "2021-08-16T00:45:10.204175Z",
     "shell.execute_reply": "2021-08-16T00:45:10.205124Z",
     "shell.execute_reply.started": "2021-08-13T01:48:47.817307Z"
    },
    "papermill": {
     "duration": 0.749565,
     "end_time": "2021-08-16T00:45:10.205397",
     "exception": false,
     "start_time": "2021-08-16T00:45:09.455832",
     "status": "completed"
    },
    "tags": []
   },
   "outputs": [
    {
     "name": "stdout",
     "output_type": "stream",
     "text": [
      "              precision    recall  f1-score   support\n",
      "\n",
      "           0       0.99      0.99      0.99       816\n",
      "           1       0.98      1.00      0.99       909\n",
      "           2       0.99      0.98      0.99       846\n",
      "           3       0.97      0.99      0.98       937\n",
      "           4       0.98      0.99      0.98       839\n",
      "           5       0.99      0.97      0.98       702\n",
      "           6       0.98      0.99      0.99       785\n",
      "           7       1.00      0.98      0.99       893\n",
      "           8       0.97      0.99      0.98       835\n",
      "           9       0.99      0.96      0.97       838\n",
      "\n",
      "    accuracy                           0.98      8400\n",
      "   macro avg       0.98      0.98      0.98      8400\n",
      "weighted avg       0.98      0.98      0.98      8400\n",
      "\n"
     ]
    }
   ],
   "source": [
    "print(classification_report(real_val, pred_val))"
   ]
  },
  {
   "cell_type": "code",
   "execution_count": 23,
   "id": "24d6bd98",
   "metadata": {
    "execution": {
     "iopub.execute_input": "2021-08-16T00:45:11.474917Z",
     "iopub.status.busy": "2021-08-16T00:45:11.474304Z",
     "iopub.status.idle": "2021-08-16T00:45:11.493069Z",
     "shell.execute_reply": "2021-08-16T00:45:11.492567Z",
     "shell.execute_reply.started": "2021-08-13T01:48:48.037502Z"
    },
    "papermill": {
     "duration": 0.653291,
     "end_time": "2021-08-16T00:45:11.493236",
     "exception": false,
     "start_time": "2021-08-16T00:45:10.839945",
     "status": "completed"
    },
    "tags": []
   },
   "outputs": [
    {
     "data": {
      "text/plain": [
       "array([[808,   0,   1,   1,   0,   0,   4,   0,   0,   2],\n",
       "       [  0, 905,   2,   0,   0,   0,   1,   0,   1,   0],\n",
       "       [  0,   4, 832,   6,   2,   0,   0,   0,   2,   0],\n",
       "       [  0,   0,   1, 932,   0,   0,   0,   1,   3,   0],\n",
       "       [  1,   1,   0,   0, 827,   0,   6,   0,   2,   2],\n",
       "       [  0,   1,   0,   9,   0, 678,   7,   0,   5,   2],\n",
       "       [  1,   0,   0,   0,   0,   0, 781,   0,   3,   0],\n",
       "       [  0,   5,   6,   1,   3,   0,   0, 872,   2,   4],\n",
       "       [  2,   2,   0,   2,   2,   2,   0,   1, 824,   0],\n",
       "       [  1,   1,   0,  10,   9,   2,   0,   1,   9, 805]])"
      ]
     },
     "execution_count": 23,
     "metadata": {},
     "output_type": "execute_result"
    }
   ],
   "source": [
    "confusion_matrix(real_val, pred_val)"
   ]
  },
  {
   "cell_type": "markdown",
   "id": "b0caf699",
   "metadata": {
    "execution": {
     "iopub.execute_input": "2021-08-11T00:46:25.319511Z",
     "iopub.status.busy": "2021-08-11T00:46:25.31909Z",
     "iopub.status.idle": "2021-08-11T00:46:25.326406Z",
     "shell.execute_reply": "2021-08-11T00:46:25.324908Z",
     "shell.execute_reply.started": "2021-08-11T00:46:25.319478Z"
    },
    "papermill": {
     "duration": 0.661024,
     "end_time": "2021-08-16T00:45:12.801631",
     "exception": false,
     "start_time": "2021-08-16T00:45:12.140607",
     "status": "completed"
    },
    "tags": []
   },
   "source": [
    "<a id=\"sec7\"></a>\n",
    "## 7. Predict on test data"
   ]
  },
  {
   "cell_type": "code",
   "execution_count": 24,
   "id": "63c5c15f",
   "metadata": {
    "execution": {
     "iopub.execute_input": "2021-08-16T00:45:14.089827Z",
     "iopub.status.busy": "2021-08-16T00:45:14.088688Z",
     "iopub.status.idle": "2021-08-16T00:45:14.181995Z",
     "shell.execute_reply": "2021-08-16T00:45:14.181465Z",
     "shell.execute_reply.started": "2021-08-13T01:48:55.464715Z"
    },
    "papermill": {
     "duration": 0.723305,
     "end_time": "2021-08-16T00:45:14.182164",
     "exception": false,
     "start_time": "2021-08-16T00:45:13.458859",
     "status": "completed"
    },
    "tags": []
   },
   "outputs": [
    {
     "data": {
      "text/plain": [
       "(28000, 28, 28, 1)"
      ]
     },
     "execution_count": 24,
     "metadata": {},
     "output_type": "execute_result"
    }
   ],
   "source": [
    "N_test_samples = x_test.shape[0]\n",
    "\n",
    "x_test_new = x_test.reshape(N_test_samples, 28, 28, 1)\n",
    "x_test_new = x_test_new/255\n",
    "\n",
    "x_test_new.shape"
   ]
  },
  {
   "cell_type": "code",
   "execution_count": 25,
   "id": "c66e7304",
   "metadata": {
    "execution": {
     "iopub.execute_input": "2021-08-16T00:45:15.448460Z",
     "iopub.status.busy": "2021-08-16T00:45:15.447810Z",
     "iopub.status.idle": "2021-08-16T00:45:18.807511Z",
     "shell.execute_reply": "2021-08-16T00:45:18.808310Z",
     "shell.execute_reply.started": "2021-08-13T01:48:55.808036Z"
    },
    "papermill": {
     "duration": 3.995564,
     "end_time": "2021-08-16T00:45:18.808501",
     "exception": false,
     "start_time": "2021-08-16T00:45:14.812937",
     "status": "completed"
    },
    "tags": []
   },
   "outputs": [
    {
     "name": "stdout",
     "output_type": "stream",
     "text": [
      "(28000, 10)\n"
     ]
    },
    {
     "data": {
      "text/plain": [
       "array([[3.0402652e-14, 2.2842833e-10, 1.0000000e+00, ..., 2.7562152e-12,\n",
       "        1.4889268e-12, 1.8890942e-14],\n",
       "       [9.9999988e-01, 2.4127837e-11, 1.3515099e-10, ..., 2.0011095e-09,\n",
       "        2.8350280e-10, 5.3668630e-09],\n",
       "       [3.5800235e-10, 1.1004246e-08, 1.7223580e-06, ..., 4.0605626e-09,\n",
       "        5.3316697e-05, 9.9993038e-01],\n",
       "       ...,\n",
       "       [5.2717755e-18, 5.4951302e-13, 1.7723080e-19, ..., 6.2699306e-16,\n",
       "        5.9572378e-15, 1.3468392e-14],\n",
       "       [6.8237412e-08, 7.5464868e-07, 2.2939739e-08, ..., 3.3514759e-06,\n",
       "        1.4840518e-06, 9.9928492e-01],\n",
       "       [4.3274073e-17, 2.8984337e-12, 1.0000000e+00, ..., 3.1065299e-16,\n",
       "        2.9216911e-15, 2.7546065e-16]], dtype=float32)"
      ]
     },
     "execution_count": 25,
     "metadata": {},
     "output_type": "execute_result"
    }
   ],
   "source": [
    "predictions = model.predict(x_test_new)\n",
    "\n",
    "print(predictions.shape)\n",
    "\n",
    "predictions"
   ]
  },
  {
   "cell_type": "code",
   "execution_count": 26,
   "id": "9a8221b8",
   "metadata": {
    "execution": {
     "iopub.execute_input": "2021-08-16T00:45:20.095462Z",
     "iopub.status.busy": "2021-08-16T00:45:20.094802Z",
     "iopub.status.idle": "2021-08-16T00:45:20.101178Z",
     "shell.execute_reply": "2021-08-16T00:45:20.100670Z",
     "shell.execute_reply.started": "2021-08-13T01:48:59.543053Z"
    },
    "papermill": {
     "duration": 0.637513,
     "end_time": "2021-08-16T00:45:20.101317",
     "exception": false,
     "start_time": "2021-08-16T00:45:19.463804",
     "status": "completed"
    },
    "tags": []
   },
   "outputs": [
    {
     "data": {
      "text/plain": [
       "array([2, 0, 9, ..., 3, 9, 2])"
      ]
     },
     "execution_count": 26,
     "metadata": {},
     "output_type": "execute_result"
    }
   ],
   "source": [
    "final_pred = np.argmax(predictions, axis=1)\n",
    "\n",
    "final_pred"
   ]
  },
  {
   "cell_type": "code",
   "execution_count": 27,
   "id": "46bacdfe",
   "metadata": {
    "execution": {
     "iopub.execute_input": "2021-08-16T00:45:21.439429Z",
     "iopub.status.busy": "2021-08-16T00:45:21.438414Z",
     "iopub.status.idle": "2021-08-16T00:45:21.582485Z",
     "shell.execute_reply": "2021-08-16T00:45:21.583029Z",
     "shell.execute_reply.started": "2021-08-13T01:48:59.552638Z"
    },
    "papermill": {
     "duration": 0.849397,
     "end_time": "2021-08-16T00:45:21.583240",
     "exception": false,
     "start_time": "2021-08-16T00:45:20.733843",
     "status": "completed"
    },
    "tags": []
   },
   "outputs": [
    {
     "name": "stdout",
     "output_type": "stream",
     "text": [
      "Predicted value: 5\n",
      "\n"
     ]
    },
    {
     "data": {
      "image/png": "[encoded data removed]",
      "text/plain": [
       "<Figure size 432x288 with 1 Axes>"
      ]
     },
     "metadata": {
      "needs_background": "light"
     },
     "output_type": "display_data"
    }
   ],
   "source": [
    "# Visualize some test prediction and corresponding digit \n",
    "\n",
    "test_index = 10\n",
    "\n",
    "plt.imshow(x_test_new[test_index], cmap='Greys')\n",
    "print(f\"Predicted value: {final_pred[test_index]}\\n\")\n"
   ]
  },
  {
   "cell_type": "markdown",
   "id": "46f1fe10",
   "metadata": {
    "execution": {
     "iopub.execute_input": "2021-08-11T01:02:51.369067Z",
     "iopub.status.busy": "2021-08-11T01:02:51.368673Z",
     "iopub.status.idle": "2021-08-11T01:02:51.376131Z",
     "shell.execute_reply": "2021-08-11T01:02:51.374436Z",
     "shell.execute_reply.started": "2021-08-11T01:02:51.369013Z"
    },
    "papermill": {
     "duration": 0.640596,
     "end_time": "2021-08-16T00:45:22.861312",
     "exception": false,
     "start_time": "2021-08-16T00:45:22.220716",
     "status": "completed"
    },
    "tags": []
   },
   "source": [
    "<a id=\"sec71\"></a>\n",
    "### generate submission"
   ]
  },
  {
   "cell_type": "code",
   "execution_count": 28,
   "id": "08234abf",
   "metadata": {
    "execution": {
     "iopub.execute_input": "2021-08-16T00:45:24.129083Z",
     "iopub.status.busy": "2021-08-16T00:45:24.128420Z",
     "iopub.status.idle": "2021-08-16T00:45:24.160880Z",
     "shell.execute_reply": "2021-08-16T00:45:24.160241Z",
     "shell.execute_reply.started": "2021-08-13T01:49:00.102485Z"
    },
    "papermill": {
     "duration": 0.663634,
     "end_time": "2021-08-16T00:45:24.161042",
     "exception": false,
     "start_time": "2021-08-16T00:45:23.497408",
     "status": "completed"
    },
    "tags": []
   },
   "outputs": [
    {
     "data": {
      "text/html": [
       "<div>\n",
       "<style scoped>\n",
       "    .dataframe tbody tr th:only-of-type {\n",
       "        vertical-align: middle;\n",
       "    }\n",
       "\n",
       "    .dataframe tbody tr th {\n",
       "        vertical-align: top;\n",
       "    }\n",
       "\n",
       "    .dataframe thead th {\n",
       "        text-align: right;\n",
       "    }\n",
       "</style>\n",
       "<table border=\"1\" class=\"dataframe\">\n",
       "  <thead>\n",
       "    <tr style=\"text-align: right;\">\n",
       "      <th></th>\n",
       "      <th>ImageId</th>\n",
       "      <th>Label</th>\n",
       "    </tr>\n",
       "  </thead>\n",
       "  <tbody>\n",
       "    <tr>\n",
       "      <th>0</th>\n",
       "      <td>1</td>\n",
       "      <td>0</td>\n",
       "    </tr>\n",
       "    <tr>\n",
       "      <th>1</th>\n",
       "      <td>2</td>\n",
       "      <td>0</td>\n",
       "    </tr>\n",
       "    <tr>\n",
       "      <th>2</th>\n",
       "      <td>3</td>\n",
       "      <td>0</td>\n",
       "    </tr>\n",
       "    <tr>\n",
       "      <th>3</th>\n",
       "      <td>4</td>\n",
       "      <td>0</td>\n",
       "    </tr>\n",
       "    <tr>\n",
       "      <th>4</th>\n",
       "      <td>5</td>\n",
       "      <td>0</td>\n",
       "    </tr>\n",
       "    <tr>\n",
       "      <th>...</th>\n",
       "      <td>...</td>\n",
       "      <td>...</td>\n",
       "    </tr>\n",
       "    <tr>\n",
       "      <th>27995</th>\n",
       "      <td>27996</td>\n",
       "      <td>0</td>\n",
       "    </tr>\n",
       "    <tr>\n",
       "      <th>27996</th>\n",
       "      <td>27997</td>\n",
       "      <td>0</td>\n",
       "    </tr>\n",
       "    <tr>\n",
       "      <th>27997</th>\n",
       "      <td>27998</td>\n",
       "      <td>0</td>\n",
       "    </tr>\n",
       "    <tr>\n",
       "      <th>27998</th>\n",
       "      <td>27999</td>\n",
       "      <td>0</td>\n",
       "    </tr>\n",
       "    <tr>\n",
       "      <th>27999</th>\n",
       "      <td>28000</td>\n",
       "      <td>0</td>\n",
       "    </tr>\n",
       "  </tbody>\n",
       "</table>\n",
       "<p>28000 rows × 2 columns</p>\n",
       "</div>"
      ],
      "text/plain": [
       "       ImageId  Label\n",
       "0            1      0\n",
       "1            2      0\n",
       "2            3      0\n",
       "3            4      0\n",
       "4            5      0\n",
       "...        ...    ...\n",
       "27995    27996      0\n",
       "27996    27997      0\n",
       "27997    27998      0\n",
       "27998    27999      0\n",
       "27999    28000      0\n",
       "\n",
       "[28000 rows x 2 columns]"
      ]
     },
     "execution_count": 28,
     "metadata": {},
     "output_type": "execute_result"
    }
   ],
   "source": [
    "pd.read_csv(\"/kaggle/input/digit-recognizer/sample_submission.csv\")"
   ]
  },
  {
   "cell_type": "code",
   "execution_count": 29,
   "id": "6b424006",
   "metadata": {
    "execution": {
     "iopub.execute_input": "2021-08-16T00:45:25.443066Z",
     "iopub.status.busy": "2021-08-16T00:45:25.439888Z",
     "iopub.status.idle": "2021-08-16T00:45:25.450533Z",
     "shell.execute_reply": "2021-08-16T00:45:25.449890Z",
     "shell.execute_reply.started": "2021-08-13T01:49:00.138498Z"
    },
    "papermill": {
     "duration": 0.663205,
     "end_time": "2021-08-16T00:45:25.450671",
     "exception": false,
     "start_time": "2021-08-16T00:45:24.787466",
     "status": "completed"
    },
    "tags": []
   },
   "outputs": [
    {
     "data": {
      "text/html": [
       "<div>\n",
       "<style scoped>\n",
       "    .dataframe tbody tr th:only-of-type {\n",
       "        vertical-align: middle;\n",
       "    }\n",
       "\n",
       "    .dataframe tbody tr th {\n",
       "        vertical-align: top;\n",
       "    }\n",
       "\n",
       "    .dataframe thead th {\n",
       "        text-align: right;\n",
       "    }\n",
       "</style>\n",
       "<table border=\"1\" class=\"dataframe\">\n",
       "  <thead>\n",
       "    <tr style=\"text-align: right;\">\n",
       "      <th></th>\n",
       "      <th>ImageId</th>\n",
       "      <th>Label</th>\n",
       "    </tr>\n",
       "  </thead>\n",
       "  <tbody>\n",
       "    <tr>\n",
       "      <th>0</th>\n",
       "      <td>1</td>\n",
       "      <td>2</td>\n",
       "    </tr>\n",
       "    <tr>\n",
       "      <th>1</th>\n",
       "      <td>2</td>\n",
       "      <td>0</td>\n",
       "    </tr>\n",
       "    <tr>\n",
       "      <th>2</th>\n",
       "      <td>3</td>\n",
       "      <td>9</td>\n",
       "    </tr>\n",
       "    <tr>\n",
       "      <th>3</th>\n",
       "      <td>4</td>\n",
       "      <td>0</td>\n",
       "    </tr>\n",
       "    <tr>\n",
       "      <th>4</th>\n",
       "      <td>5</td>\n",
       "      <td>3</td>\n",
       "    </tr>\n",
       "    <tr>\n",
       "      <th>...</th>\n",
       "      <td>...</td>\n",
       "      <td>...</td>\n",
       "    </tr>\n",
       "    <tr>\n",
       "      <th>27995</th>\n",
       "      <td>27996</td>\n",
       "      <td>9</td>\n",
       "    </tr>\n",
       "    <tr>\n",
       "      <th>27996</th>\n",
       "      <td>27997</td>\n",
       "      <td>7</td>\n",
       "    </tr>\n",
       "    <tr>\n",
       "      <th>27997</th>\n",
       "      <td>27998</td>\n",
       "      <td>3</td>\n",
       "    </tr>\n",
       "    <tr>\n",
       "      <th>27998</th>\n",
       "      <td>27999</td>\n",
       "      <td>9</td>\n",
       "    </tr>\n",
       "    <tr>\n",
       "      <th>27999</th>\n",
       "      <td>28000</td>\n",
       "      <td>2</td>\n",
       "    </tr>\n",
       "  </tbody>\n",
       "</table>\n",
       "<p>28000 rows × 2 columns</p>\n",
       "</div>"
      ],
      "text/plain": [
       "       ImageId  Label\n",
       "0            1      2\n",
       "1            2      0\n",
       "2            3      9\n",
       "3            4      0\n",
       "4            5      3\n",
       "...        ...    ...\n",
       "27995    27996      9\n",
       "27996    27997      7\n",
       "27997    27998      3\n",
       "27998    27999      9\n",
       "27999    28000      2\n",
       "\n",
       "[28000 rows x 2 columns]"
      ]
     },
     "execution_count": 29,
     "metadata": {},
     "output_type": "execute_result"
    }
   ],
   "source": [
    "submission_dict = {\"ImageId\": [i+1 for i in range(28000)],\n",
    "                   \"Label\": final_pred}\n",
    "\n",
    "sub_df = pd.DataFrame(submission_dict)\n",
    "\n",
    "sub_df"
   ]
  },
  {
   "cell_type": "code",
   "execution_count": 30,
   "id": "ead925c6",
   "metadata": {
    "execution": {
     "iopub.execute_input": "2021-08-16T00:45:26.731345Z",
     "iopub.status.busy": "2021-08-16T00:45:26.730696Z",
     "iopub.status.idle": "2021-08-16T00:45:26.785936Z",
     "shell.execute_reply": "2021-08-16T00:45:26.786498Z",
     "shell.execute_reply.started": "2021-08-13T01:51:28.113184Z"
    },
    "papermill": {
     "duration": 0.696846,
     "end_time": "2021-08-16T00:45:26.786677",
     "exception": false,
     "start_time": "2021-08-16T00:45:26.089831",
     "status": "completed"
    },
    "tags": []
   },
   "outputs": [],
   "source": [
    "sub_df.to_csv(\"submission.csv\", index=False)"
   ]
  },
  {
   "cell_type": "markdown",
   "id": "819e6b9d",
   "metadata": {
    "execution": {
     "iopub.execute_input": "2021-08-12T20:12:10.211877Z",
     "iopub.status.busy": "2021-08-12T20:12:10.211356Z",
     "iopub.status.idle": "2021-08-12T20:12:10.224862Z",
     "shell.execute_reply": "2021-08-12T20:12:10.223272Z",
     "shell.execute_reply.started": "2021-08-12T20:12:10.211753Z"
    },
    "papermill": {
     "duration": 0.626688,
     "end_time": "2021-08-16T00:45:28.042007",
     "exception": false,
     "start_time": "2021-08-16T00:45:27.415319",
     "status": "completed"
    },
    "tags": []
   },
   "source": [
    "<a id=\"sec8\"></a>\n",
    "## 8. Potential next steps"
   ]
  },
  {
   "cell_type": "markdown",
   "id": "0b19ce6a",
   "metadata": {
    "execution": {
     "iopub.execute_input": "2021-08-12T20:13:17.578287Z",
     "iopub.status.busy": "2021-08-12T20:13:17.577869Z",
     "iopub.status.idle": "2021-08-12T20:13:17.585148Z",
     "shell.execute_reply": "2021-08-12T20:13:17.584098Z",
     "shell.execute_reply.started": "2021-08-12T20:13:17.578243Z"
    },
    "papermill": {
     "duration": 0.625888,
     "end_time": "2021-08-16T00:45:29.297004",
     "exception": false,
     "start_time": "2021-08-16T00:45:28.671116",
     "status": "completed"
    },
    "tags": []
   },
   "source": [
    "* explore (mean? histogram? nonzero per class?)\n",
    "* feature selection (crop and other methods)?\n",
    "* dimensionality reduction?\n",
    "* data augmentation?\n",
    "* cross validation?\n",
    "* more complex CNN?\n",
    "* compare to simpler approach (cosine similarity?)"
   ]
  }
 ],
 "metadata": {
  "kernelspec": {
   "display_name": "Python 3",
   "language": "python",
   "name": "python3"
  },
  "language_info": {
   "codemirror_mode": {
    "name": "ipython",
    "version": 3
   },
   "file_extension": ".py",
   "mimetype": "text/x-python",
   "name": "python",
   "nbconvert_exporter": "python",
   "pygments_lexer": "ipython3",
   "version": "3.7.10"
  },
  "papermill": {
   "default_parameters": {},
   "duration": 176.126051,
   "end_time": "2021-08-16T00:45:31.830452",
   "environment_variables": {},
   "exception": null,
   "input_path": "__notebook__.ipynb",
   "output_path": "__notebook__.ipynb",
   "parameters": {},
   "start_time": "2021-08-16T00:42:35.704401",
   "version": "2.3.3"
  }
 },
 "nbformat": 4,
 "nbformat_minor": 5
}
