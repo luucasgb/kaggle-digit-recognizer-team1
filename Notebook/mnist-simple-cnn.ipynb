{
 "cells": [
  {
   "cell_type": "markdown",
   "id": "fba5a921",
   "metadata": {
    "execution": {
     "iopub.execute_input": "2021-08-10T21:20:48.814892Z",
     "iopub.status.busy": "2021-08-10T21:20:48.814455Z",
     "iopub.status.idle": "2021-08-10T21:20:48.823089Z",
     "shell.execute_reply": "2021-08-10T21:20:48.821146Z",
     "shell.execute_reply.started": "2021-08-10T21:20:48.814855Z"
    },
    "papermill": {
     "duration": 0.033682,
     "end_time": "2021-08-17T00:58:16.666609",
     "exception": false,
     "start_time": "2021-08-17T00:58:16.632927",
     "status": "completed"
    },
    "tags": []
   },
   "source": [
    "Sections:\n",
    "\n",
    "\n",
    "1. <a href=\"#sec1\"> Imports </a>\n",
    "2. <a href=\"#sec2\"> Load data </a>\n",
    "3. <a href=\"#sec3\"> Visualizing image data </a>\n",
    "    * <a href=\"#sec30\"> data reshaping </a>\n",
    "    * <a href=\"#sec31\"> visualization </a>\n",
    "4. <a href=\"#sec4\"> Pre-processing </a>\n",
    "    * <a href=\"#sec41\"> labels </a>\n",
    "    * <a href=\"#sec42\"> data normalization </a>\n",
    "    * <a href=\"#sec43\"> data split </a>\n",
    "5. <a href=\"#sec5\"> Define and train model </a>\n",
    "6. <a href=\"#sec6\"> Evaluate model </a>\n",
    "7. <a href=\"#sec7\"> Predict on test data </a>\n",
    "    * <a href=\"#sec71\"> generate submission </a>\n",
    "8. <a href=\"#sec8\"> Potential next steps </a>\n"
   ]
  },
  {
   "cell_type": "markdown",
   "id": "d9c94dd3",
   "metadata": {
    "execution": {
     "iopub.execute_input": "2021-08-15T15:04:15.118189Z",
     "iopub.status.busy": "2021-08-15T15:04:15.117417Z",
     "iopub.status.idle": "2021-08-15T15:04:15.134802Z",
     "shell.execute_reply": "2021-08-15T15:04:15.132947Z",
     "shell.execute_reply.started": "2021-08-15T15:04:15.118053Z"
    },
    "papermill": {
     "duration": 0.041797,
     "end_time": "2021-08-17T00:58:16.742856",
     "exception": false,
     "start_time": "2021-08-17T00:58:16.701059",
     "status": "completed"
    },
    "tags": []
   },
   "source": [
    "<a id=\"sec1\"></a>\n",
    "## 1. Imports"
   ]
  },
  {
   "cell_type": "code",
   "execution_count": 1,
   "id": "6d838396",
   "metadata": {
    "execution": {
     "iopub.execute_input": "2021-08-17T00:58:16.826298Z",
     "iopub.status.busy": "2021-08-17T00:58:16.825588Z",
     "iopub.status.idle": "2021-08-17T00:58:23.407457Z",
     "shell.execute_reply": "2021-08-17T00:58:23.406358Z",
     "shell.execute_reply.started": "2021-08-13T01:28:26.107487Z"
    },
    "papermill": {
     "duration": 6.631245,
     "end_time": "2021-08-17T00:58:23.407654",
     "exception": false,
     "start_time": "2021-08-17T00:58:16.776409",
     "status": "completed"
    },
    "tags": []
   },
   "outputs": [],
   "source": [
    "import os\n",
    "import pandas as pd\n",
    "import numpy as np\n",
    "import matplotlib.pyplot as plt\n",
    "from tensorflow.keras.utils import to_categorical\n",
    "from tensorflow.keras.models import Sequential\n",
    "from tensorflow.keras.layers import Dense, Conv2D, MaxPool2D, Flatten\n",
    "from tensorflow.keras.callbacks import EarlyStopping\n",
    "from keras.utils import plot_model\n",
    "from sklearn.model_selection import train_test_split\n",
    "from sklearn.metrics import classification_report,confusion_matrix"
   ]
  },
  {
   "cell_type": "markdown",
   "id": "58fd0dfe",
   "metadata": {
    "execution": {
     "iopub.execute_input": "2021-08-10T21:22:01.551449Z",
     "iopub.status.busy": "2021-08-10T21:22:01.551112Z",
     "iopub.status.idle": "2021-08-10T21:22:01.557442Z",
     "shell.execute_reply": "2021-08-10T21:22:01.556359Z",
     "shell.execute_reply.started": "2021-08-10T21:22:01.551421Z"
    },
    "papermill": {
     "duration": 0.032758,
     "end_time": "2021-08-17T00:58:23.472973",
     "exception": false,
     "start_time": "2021-08-17T00:58:23.440215",
     "status": "completed"
    },
    "tags": []
   },
   "source": [
    "<a id=\"sec2\"></a>\n",
    "## 2. Load data"
   ]
  },
  {
   "cell_type": "code",
   "execution_count": 2,
   "id": "32818909",
   "metadata": {
    "execution": {
     "iopub.execute_input": "2021-08-17T00:58:23.541617Z",
     "iopub.status.busy": "2021-08-17T00:58:23.540652Z",
     "iopub.status.idle": "2021-08-17T00:58:23.548709Z",
     "shell.execute_reply": "2021-08-17T00:58:23.548107Z",
     "shell.execute_reply.started": "2021-08-13T01:28:26.655424Z"
    },
    "papermill": {
     "duration": 0.043643,
     "end_time": "2021-08-17T00:58:23.548865",
     "exception": false,
     "start_time": "2021-08-17T00:58:23.505222",
     "status": "completed"
    },
    "tags": []
   },
   "outputs": [
    {
     "name": "stdout",
     "output_type": "stream",
     "text": [
      "/kaggle/input/digit-recognizer/sample_submission.csv\n",
      "/kaggle/input/digit-recognizer/train.csv\n",
      "/kaggle/input/digit-recognizer/test.csv\n"
     ]
    }
   ],
   "source": [
    "for dirname, _, filenames in os.walk('/kaggle/input'):\n",
    "    for filename in filenames:\n",
    "        print(os.path.join(dirname, filename))"
   ]
  },
  {
   "cell_type": "code",
   "execution_count": 3,
   "id": "cfd747e1",
   "metadata": {
    "execution": {
     "iopub.execute_input": "2021-08-17T00:58:23.621946Z",
     "iopub.status.busy": "2021-08-17T00:58:23.621097Z",
     "iopub.status.idle": "2021-08-17T00:58:29.528213Z",
     "shell.execute_reply": "2021-08-17T00:58:29.527630Z",
     "shell.execute_reply.started": "2021-08-13T01:28:26.956508Z"
    },
    "papermill": {
     "duration": 5.944725,
     "end_time": "2021-08-17T00:58:29.528369",
     "exception": false,
     "start_time": "2021-08-17T00:58:23.583644",
     "status": "completed"
    },
    "tags": []
   },
   "outputs": [
    {
     "name": "stdout",
     "output_type": "stream",
     "text": [
      "(42000, 785)\n",
      "(28000, 784)\n"
     ]
    }
   ],
   "source": [
    "df_train = pd.read_csv(\"/kaggle/input/digit-recognizer/train.csv\")\n",
    "df_test = pd.read_csv(\"/kaggle/input/digit-recognizer/test.csv\")\n",
    "\n",
    "print(df_train.shape)\n",
    "print(df_test.shape)"
   ]
  },
  {
   "cell_type": "code",
   "execution_count": 4,
   "id": "813169ce",
   "metadata": {
    "execution": {
     "iopub.execute_input": "2021-08-17T00:58:29.608867Z",
     "iopub.status.busy": "2021-08-17T00:58:29.608125Z",
     "iopub.status.idle": "2021-08-17T00:58:29.636678Z",
     "shell.execute_reply": "2021-08-17T00:58:29.636110Z",
     "shell.execute_reply.started": "2021-08-13T01:28:32.020663Z"
    },
    "papermill": {
     "duration": 0.074718,
     "end_time": "2021-08-17T00:58:29.636839",
     "exception": false,
     "start_time": "2021-08-17T00:58:29.562121",
     "status": "completed"
    },
    "tags": []
   },
   "outputs": [
    {
     "data": {
      "text/html": [
       "<div>\n",
       "<style scoped>\n",
       "    .dataframe tbody tr th:only-of-type {\n",
       "        vertical-align: middle;\n",
       "    }\n",
       "\n",
       "    .dataframe tbody tr th {\n",
       "        vertical-align: top;\n",
       "    }\n",
       "\n",
       "    .dataframe thead th {\n",
       "        text-align: right;\n",
       "    }\n",
       "</style>\n",
       "<table border=\"1\" class=\"dataframe\">\n",
       "  <thead>\n",
       "    <tr style=\"text-align: right;\">\n",
       "      <th></th>\n",
       "      <th>label</th>\n",
       "      <th>pixel0</th>\n",
       "      <th>pixel1</th>\n",
       "      <th>pixel2</th>\n",
       "      <th>pixel3</th>\n",
       "      <th>pixel4</th>\n",
       "      <th>pixel5</th>\n",
       "      <th>pixel6</th>\n",
       "      <th>pixel7</th>\n",
       "      <th>pixel8</th>\n",
       "      <th>...</th>\n",
       "      <th>pixel774</th>\n",
       "      <th>pixel775</th>\n",
       "      <th>pixel776</th>\n",
       "      <th>pixel777</th>\n",
       "      <th>pixel778</th>\n",
       "      <th>pixel779</th>\n",
       "      <th>pixel780</th>\n",
       "      <th>pixel781</th>\n",
       "      <th>pixel782</th>\n",
       "      <th>pixel783</th>\n",
       "    </tr>\n",
       "  </thead>\n",
       "  <tbody>\n",
       "    <tr>\n",
       "      <th>0</th>\n",
       "      <td>1</td>\n",
       "      <td>0</td>\n",
       "      <td>0</td>\n",
       "      <td>0</td>\n",
       "      <td>0</td>\n",
       "      <td>0</td>\n",
       "      <td>0</td>\n",
       "      <td>0</td>\n",
       "      <td>0</td>\n",
       "      <td>0</td>\n",
       "      <td>...</td>\n",
       "      <td>0</td>\n",
       "      <td>0</td>\n",
       "      <td>0</td>\n",
       "      <td>0</td>\n",
       "      <td>0</td>\n",
       "      <td>0</td>\n",
       "      <td>0</td>\n",
       "      <td>0</td>\n",
       "      <td>0</td>\n",
       "      <td>0</td>\n",
       "    </tr>\n",
       "    <tr>\n",
       "      <th>1</th>\n",
       "      <td>0</td>\n",
       "      <td>0</td>\n",
       "      <td>0</td>\n",
       "      <td>0</td>\n",
       "      <td>0</td>\n",
       "      <td>0</td>\n",
       "      <td>0</td>\n",
       "      <td>0</td>\n",
       "      <td>0</td>\n",
       "      <td>0</td>\n",
       "      <td>...</td>\n",
       "      <td>0</td>\n",
       "      <td>0</td>\n",
       "      <td>0</td>\n",
       "      <td>0</td>\n",
       "      <td>0</td>\n",
       "      <td>0</td>\n",
       "      <td>0</td>\n",
       "      <td>0</td>\n",
       "      <td>0</td>\n",
       "      <td>0</td>\n",
       "    </tr>\n",
       "    <tr>\n",
       "      <th>2</th>\n",
       "      <td>1</td>\n",
       "      <td>0</td>\n",
       "      <td>0</td>\n",
       "      <td>0</td>\n",
       "      <td>0</td>\n",
       "      <td>0</td>\n",
       "      <td>0</td>\n",
       "      <td>0</td>\n",
       "      <td>0</td>\n",
       "      <td>0</td>\n",
       "      <td>...</td>\n",
       "      <td>0</td>\n",
       "      <td>0</td>\n",
       "      <td>0</td>\n",
       "      <td>0</td>\n",
       "      <td>0</td>\n",
       "      <td>0</td>\n",
       "      <td>0</td>\n",
       "      <td>0</td>\n",
       "      <td>0</td>\n",
       "      <td>0</td>\n",
       "    </tr>\n",
       "    <tr>\n",
       "      <th>3</th>\n",
       "      <td>4</td>\n",
       "      <td>0</td>\n",
       "      <td>0</td>\n",
       "      <td>0</td>\n",
       "      <td>0</td>\n",
       "      <td>0</td>\n",
       "      <td>0</td>\n",
       "      <td>0</td>\n",
       "      <td>0</td>\n",
       "      <td>0</td>\n",
       "      <td>...</td>\n",
       "      <td>0</td>\n",
       "      <td>0</td>\n",
       "      <td>0</td>\n",
       "      <td>0</td>\n",
       "      <td>0</td>\n",
       "      <td>0</td>\n",
       "      <td>0</td>\n",
       "      <td>0</td>\n",
       "      <td>0</td>\n",
       "      <td>0</td>\n",
       "    </tr>\n",
       "    <tr>\n",
       "      <th>4</th>\n",
       "      <td>0</td>\n",
       "      <td>0</td>\n",
       "      <td>0</td>\n",
       "      <td>0</td>\n",
       "      <td>0</td>\n",
       "      <td>0</td>\n",
       "      <td>0</td>\n",
       "      <td>0</td>\n",
       "      <td>0</td>\n",
       "      <td>0</td>\n",
       "      <td>...</td>\n",
       "      <td>0</td>\n",
       "      <td>0</td>\n",
       "      <td>0</td>\n",
       "      <td>0</td>\n",
       "      <td>0</td>\n",
       "      <td>0</td>\n",
       "      <td>0</td>\n",
       "      <td>0</td>\n",
       "      <td>0</td>\n",
       "      <td>0</td>\n",
       "    </tr>\n",
       "  </tbody>\n",
       "</table>\n",
       "<p>5 rows × 785 columns</p>\n",
       "</div>"
      ],
      "text/plain": [
       "   label  pixel0  pixel1  pixel2  pixel3  pixel4  pixel5  pixel6  pixel7  \\\n",
       "0      1       0       0       0       0       0       0       0       0   \n",
       "1      0       0       0       0       0       0       0       0       0   \n",
       "2      1       0       0       0       0       0       0       0       0   \n",
       "3      4       0       0       0       0       0       0       0       0   \n",
       "4      0       0       0       0       0       0       0       0       0   \n",
       "\n",
       "   pixel8  ...  pixel774  pixel775  pixel776  pixel777  pixel778  pixel779  \\\n",
       "0       0  ...         0         0         0         0         0         0   \n",
       "1       0  ...         0         0         0         0         0         0   \n",
       "2       0  ...         0         0         0         0         0         0   \n",
       "3       0  ...         0         0         0         0         0         0   \n",
       "4       0  ...         0         0         0         0         0         0   \n",
       "\n",
       "   pixel780  pixel781  pixel782  pixel783  \n",
       "0         0         0         0         0  \n",
       "1         0         0         0         0  \n",
       "2         0         0         0         0  \n",
       "3         0         0         0         0  \n",
       "4         0         0         0         0  \n",
       "\n",
       "[5 rows x 785 columns]"
      ]
     },
     "execution_count": 4,
     "metadata": {},
     "output_type": "execute_result"
    }
   ],
   "source": [
    "df_train.head()"
   ]
  },
  {
   "cell_type": "code",
   "execution_count": 5,
   "id": "6d8cc8c6",
   "metadata": {
    "execution": {
     "iopub.execute_input": "2021-08-17T00:58:29.722096Z",
     "iopub.status.busy": "2021-08-17T00:58:29.721087Z",
     "iopub.status.idle": "2021-08-17T00:58:29.725645Z",
     "shell.execute_reply": "2021-08-17T00:58:29.725161Z",
     "shell.execute_reply.started": "2021-08-13T01:28:32.044941Z"
    },
    "papermill": {
     "duration": 0.055238,
     "end_time": "2021-08-17T00:58:29.725813",
     "exception": false,
     "start_time": "2021-08-17T00:58:29.670575",
     "status": "completed"
    },
    "tags": []
   },
   "outputs": [
    {
     "data": {
      "text/html": [
       "<div>\n",
       "<style scoped>\n",
       "    .dataframe tbody tr th:only-of-type {\n",
       "        vertical-align: middle;\n",
       "    }\n",
       "\n",
       "    .dataframe tbody tr th {\n",
       "        vertical-align: top;\n",
       "    }\n",
       "\n",
       "    .dataframe thead th {\n",
       "        text-align: right;\n",
       "    }\n",
       "</style>\n",
       "<table border=\"1\" class=\"dataframe\">\n",
       "  <thead>\n",
       "    <tr style=\"text-align: right;\">\n",
       "      <th></th>\n",
       "      <th>pixel0</th>\n",
       "      <th>pixel1</th>\n",
       "      <th>pixel2</th>\n",
       "      <th>pixel3</th>\n",
       "      <th>pixel4</th>\n",
       "      <th>pixel5</th>\n",
       "      <th>pixel6</th>\n",
       "      <th>pixel7</th>\n",
       "      <th>pixel8</th>\n",
       "      <th>pixel9</th>\n",
       "      <th>...</th>\n",
       "      <th>pixel774</th>\n",
       "      <th>pixel775</th>\n",
       "      <th>pixel776</th>\n",
       "      <th>pixel777</th>\n",
       "      <th>pixel778</th>\n",
       "      <th>pixel779</th>\n",
       "      <th>pixel780</th>\n",
       "      <th>pixel781</th>\n",
       "      <th>pixel782</th>\n",
       "      <th>pixel783</th>\n",
       "    </tr>\n",
       "  </thead>\n",
       "  <tbody>\n",
       "    <tr>\n",
       "      <th>0</th>\n",
       "      <td>0</td>\n",
       "      <td>0</td>\n",
       "      <td>0</td>\n",
       "      <td>0</td>\n",
       "      <td>0</td>\n",
       "      <td>0</td>\n",
       "      <td>0</td>\n",
       "      <td>0</td>\n",
       "      <td>0</td>\n",
       "      <td>0</td>\n",
       "      <td>...</td>\n",
       "      <td>0</td>\n",
       "      <td>0</td>\n",
       "      <td>0</td>\n",
       "      <td>0</td>\n",
       "      <td>0</td>\n",
       "      <td>0</td>\n",
       "      <td>0</td>\n",
       "      <td>0</td>\n",
       "      <td>0</td>\n",
       "      <td>0</td>\n",
       "    </tr>\n",
       "    <tr>\n",
       "      <th>1</th>\n",
       "      <td>0</td>\n",
       "      <td>0</td>\n",
       "      <td>0</td>\n",
       "      <td>0</td>\n",
       "      <td>0</td>\n",
       "      <td>0</td>\n",
       "      <td>0</td>\n",
       "      <td>0</td>\n",
       "      <td>0</td>\n",
       "      <td>0</td>\n",
       "      <td>...</td>\n",
       "      <td>0</td>\n",
       "      <td>0</td>\n",
       "      <td>0</td>\n",
       "      <td>0</td>\n",
       "      <td>0</td>\n",
       "      <td>0</td>\n",
       "      <td>0</td>\n",
       "      <td>0</td>\n",
       "      <td>0</td>\n",
       "      <td>0</td>\n",
       "    </tr>\n",
       "    <tr>\n",
       "      <th>2</th>\n",
       "      <td>0</td>\n",
       "      <td>0</td>\n",
       "      <td>0</td>\n",
       "      <td>0</td>\n",
       "      <td>0</td>\n",
       "      <td>0</td>\n",
       "      <td>0</td>\n",
       "      <td>0</td>\n",
       "      <td>0</td>\n",
       "      <td>0</td>\n",
       "      <td>...</td>\n",
       "      <td>0</td>\n",
       "      <td>0</td>\n",
       "      <td>0</td>\n",
       "      <td>0</td>\n",
       "      <td>0</td>\n",
       "      <td>0</td>\n",
       "      <td>0</td>\n",
       "      <td>0</td>\n",
       "      <td>0</td>\n",
       "      <td>0</td>\n",
       "    </tr>\n",
       "    <tr>\n",
       "      <th>3</th>\n",
       "      <td>0</td>\n",
       "      <td>0</td>\n",
       "      <td>0</td>\n",
       "      <td>0</td>\n",
       "      <td>0</td>\n",
       "      <td>0</td>\n",
       "      <td>0</td>\n",
       "      <td>0</td>\n",
       "      <td>0</td>\n",
       "      <td>0</td>\n",
       "      <td>...</td>\n",
       "      <td>0</td>\n",
       "      <td>0</td>\n",
       "      <td>0</td>\n",
       "      <td>0</td>\n",
       "      <td>0</td>\n",
       "      <td>0</td>\n",
       "      <td>0</td>\n",
       "      <td>0</td>\n",
       "      <td>0</td>\n",
       "      <td>0</td>\n",
       "    </tr>\n",
       "    <tr>\n",
       "      <th>4</th>\n",
       "      <td>0</td>\n",
       "      <td>0</td>\n",
       "      <td>0</td>\n",
       "      <td>0</td>\n",
       "      <td>0</td>\n",
       "      <td>0</td>\n",
       "      <td>0</td>\n",
       "      <td>0</td>\n",
       "      <td>0</td>\n",
       "      <td>0</td>\n",
       "      <td>...</td>\n",
       "      <td>0</td>\n",
       "      <td>0</td>\n",
       "      <td>0</td>\n",
       "      <td>0</td>\n",
       "      <td>0</td>\n",
       "      <td>0</td>\n",
       "      <td>0</td>\n",
       "      <td>0</td>\n",
       "      <td>0</td>\n",
       "      <td>0</td>\n",
       "    </tr>\n",
       "  </tbody>\n",
       "</table>\n",
       "<p>5 rows × 784 columns</p>\n",
       "</div>"
      ],
      "text/plain": [
       "   pixel0  pixel1  pixel2  pixel3  pixel4  pixel5  pixel6  pixel7  pixel8  \\\n",
       "0       0       0       0       0       0       0       0       0       0   \n",
       "1       0       0       0       0       0       0       0       0       0   \n",
       "2       0       0       0       0       0       0       0       0       0   \n",
       "3       0       0       0       0       0       0       0       0       0   \n",
       "4       0       0       0       0       0       0       0       0       0   \n",
       "\n",
       "   pixel9  ...  pixel774  pixel775  pixel776  pixel777  pixel778  pixel779  \\\n",
       "0       0  ...         0         0         0         0         0         0   \n",
       "1       0  ...         0         0         0         0         0         0   \n",
       "2       0  ...         0         0         0         0         0         0   \n",
       "3       0  ...         0         0         0         0         0         0   \n",
       "4       0  ...         0         0         0         0         0         0   \n",
       "\n",
       "   pixel780  pixel781  pixel782  pixel783  \n",
       "0         0         0         0         0  \n",
       "1         0         0         0         0  \n",
       "2         0         0         0         0  \n",
       "3         0         0         0         0  \n",
       "4         0         0         0         0  \n",
       "\n",
       "[5 rows x 784 columns]"
      ]
     },
     "execution_count": 5,
     "metadata": {},
     "output_type": "execute_result"
    }
   ],
   "source": [
    "df_test.head()"
   ]
  },
  {
   "cell_type": "code",
   "execution_count": 6,
   "id": "5175159c",
   "metadata": {
    "execution": {
     "iopub.execute_input": "2021-08-17T00:58:29.802281Z",
     "iopub.status.busy": "2021-08-17T00:58:29.800930Z",
     "iopub.status.idle": "2021-08-17T00:58:29.972685Z",
     "shell.execute_reply": "2021-08-17T00:58:29.971837Z",
     "shell.execute_reply.started": "2021-08-13T01:28:32.083179Z"
    },
    "papermill": {
     "duration": 0.211875,
     "end_time": "2021-08-17T00:58:29.972882",
     "exception": false,
     "start_time": "2021-08-17T00:58:29.761007",
     "status": "completed"
    },
    "tags": []
   },
   "outputs": [],
   "source": [
    "x_train_temp = np.array(df_train.iloc[:, 1:])\n",
    "y_train = np.array(df_train.iloc[:, 0])\n",
    "\n",
    "x_test = np.array(df_test)"
   ]
  },
  {
   "cell_type": "markdown",
   "id": "a4303cf2",
   "metadata": {
    "execution": {
     "iopub.execute_input": "2021-08-10T21:22:33.711394Z",
     "iopub.status.busy": "2021-08-10T21:22:33.710875Z",
     "iopub.status.idle": "2021-08-10T21:22:33.715805Z",
     "shell.execute_reply": "2021-08-10T21:22:33.714812Z",
     "shell.execute_reply.started": "2021-08-10T21:22:33.71136Z"
    },
    "papermill": {
     "duration": 0.034291,
     "end_time": "2021-08-17T00:58:30.042165",
     "exception": false,
     "start_time": "2021-08-17T00:58:30.007874",
     "status": "completed"
    },
    "tags": []
   },
   "source": [
    "<a id=\"sec3\"></a>\n",
    "## 3. Visualizing image data"
   ]
  },
  {
   "cell_type": "markdown",
   "id": "e047c440",
   "metadata": {
    "execution": {
     "iopub.execute_input": "2021-08-10T21:24:02.754518Z",
     "iopub.status.busy": "2021-08-10T21:24:02.754204Z",
     "iopub.status.idle": "2021-08-10T21:24:02.759963Z",
     "shell.execute_reply": "2021-08-10T21:24:02.758981Z",
     "shell.execute_reply.started": "2021-08-10T21:24:02.754491Z"
    },
    "papermill": {
     "duration": 0.033671,
     "end_time": "2021-08-17T00:58:30.110540",
     "exception": false,
     "start_time": "2021-08-17T00:58:30.076869",
     "status": "completed"
    },
    "tags": []
   },
   "source": [
    "<a id=\"sec30\"></a>\n",
    "### data reshaping"
   ]
  },
  {
   "cell_type": "code",
   "execution_count": 7,
   "id": "4e7336bd",
   "metadata": {
    "execution": {
     "iopub.execute_input": "2021-08-17T00:58:30.185420Z",
     "iopub.status.busy": "2021-08-17T00:58:30.184712Z",
     "iopub.status.idle": "2021-08-17T00:58:30.186914Z",
     "shell.execute_reply": "2021-08-17T00:58:30.187391Z",
     "shell.execute_reply.started": "2021-08-13T01:28:32.325523Z"
    },
    "papermill": {
     "duration": 0.041511,
     "end_time": "2021-08-17T00:58:30.187558",
     "exception": false,
     "start_time": "2021-08-17T00:58:30.146047",
     "status": "completed"
    },
    "tags": []
   },
   "outputs": [],
   "source": [
    "N_train_samples = x_train_temp.shape[0]\n",
    "x_train = x_train_temp.reshape(N_train_samples, 28, 28, 1)"
   ]
  },
  {
   "cell_type": "markdown",
   "id": "2c2c9078",
   "metadata": {
    "execution": {
     "iopub.execute_input": "2021-08-11T01:11:46.479635Z",
     "iopub.status.busy": "2021-08-11T01:11:46.479238Z",
     "iopub.status.idle": "2021-08-11T01:11:46.485938Z",
     "shell.execute_reply": "2021-08-11T01:11:46.484454Z",
     "shell.execute_reply.started": "2021-08-11T01:11:46.479603Z"
    },
    "papermill": {
     "duration": 0.033483,
     "end_time": "2021-08-17T00:58:30.255376",
     "exception": false,
     "start_time": "2021-08-17T00:58:30.221893",
     "status": "completed"
    },
    "tags": []
   },
   "source": [
    "<a id=\"sec31\"></a>\n",
    "### visualization"
   ]
  },
  {
   "cell_type": "code",
   "execution_count": 8,
   "id": "005bcc62",
   "metadata": {
    "execution": {
     "iopub.execute_input": "2021-08-17T00:58:30.344102Z",
     "iopub.status.busy": "2021-08-17T00:58:30.343313Z",
     "iopub.status.idle": "2021-08-17T00:58:31.550064Z",
     "shell.execute_reply": "2021-08-17T00:58:31.550504Z",
     "shell.execute_reply.started": "2021-08-13T01:28:32.333929Z"
    },
    "papermill": {
     "duration": 1.26135,
     "end_time": "2021-08-17T00:58:31.550687",
     "exception": false,
     "start_time": "2021-08-17T00:58:30.289337",
     "status": "completed"
    },
    "tags": []
   },
   "outputs": [
    {
     "data": {
      "image/png": "[encoded data removed]",
      "text/plain": [
       "<Figure size 2160x1080 with 10 Axes>"
      ]
     },
     "metadata": {
      "needs_background": "light"
     },
     "output_type": "display_data"
    }
   ],
   "source": [
    "plt.figure(figsize=(30, 15))\n",
    "\n",
    "n = 10\n",
    "\n",
    "for i in range(n):\n",
    "    plt.subplot(1, n, i+1)\n",
    "    img = x_train[i]\n",
    "    plt.imshow(img, cmap='Greys')\n",
    "plt.show()"
   ]
  },
  {
   "cell_type": "markdown",
   "id": "5c7f2d18",
   "metadata": {
    "execution": {
     "iopub.execute_input": "2021-08-10T21:22:51.337421Z",
     "iopub.status.busy": "2021-08-10T21:22:51.336907Z",
     "iopub.status.idle": "2021-08-10T21:22:51.343544Z",
     "shell.execute_reply": "2021-08-10T21:22:51.34223Z",
     "shell.execute_reply.started": "2021-08-10T21:22:51.337375Z"
    },
    "papermill": {
     "duration": 0.034708,
     "end_time": "2021-08-17T00:58:31.620644",
     "exception": false,
     "start_time": "2021-08-17T00:58:31.585936",
     "status": "completed"
    },
    "tags": []
   },
   "source": [
    "<a id=\"sec4\"></a>\n",
    "## 4. Pre-processing"
   ]
  },
  {
   "cell_type": "markdown",
   "id": "df36652e",
   "metadata": {
    "execution": {
     "iopub.execute_input": "2021-08-10T21:23:03.651039Z",
     "iopub.status.busy": "2021-08-10T21:23:03.650322Z",
     "iopub.status.idle": "2021-08-10T21:23:03.659239Z",
     "shell.execute_reply": "2021-08-10T21:23:03.657242Z",
     "shell.execute_reply.started": "2021-08-10T21:23:03.650983Z"
    },
    "papermill": {
     "duration": 0.034575,
     "end_time": "2021-08-17T00:58:31.690742",
     "exception": false,
     "start_time": "2021-08-17T00:58:31.656167",
     "status": "completed"
    },
    "tags": []
   },
   "source": [
    "<a id=\"sec41\"></a>\n",
    "### labels"
   ]
  },
  {
   "cell_type": "code",
   "execution_count": 9,
   "id": "a573e683",
   "metadata": {
    "execution": {
     "iopub.execute_input": "2021-08-17T00:58:31.766635Z",
     "iopub.status.busy": "2021-08-17T00:58:31.765662Z",
     "iopub.status.idle": "2021-08-17T00:58:31.771544Z",
     "shell.execute_reply": "2021-08-17T00:58:31.772104Z",
     "shell.execute_reply.started": "2021-08-13T01:28:33.346989Z"
    },
    "papermill": {
     "duration": 0.044477,
     "end_time": "2021-08-17T00:58:31.772274",
     "exception": false,
     "start_time": "2021-08-17T00:58:31.727797",
     "status": "completed"
    },
    "tags": []
   },
   "outputs": [
    {
     "data": {
      "text/plain": [
       "array([1, 0, 1, ..., 7, 6, 9])"
      ]
     },
     "execution_count": 9,
     "metadata": {},
     "output_type": "execute_result"
    }
   ],
   "source": [
    "y_train"
   ]
  },
  {
   "cell_type": "code",
   "execution_count": 10,
   "id": "d877908f",
   "metadata": {
    "execution": {
     "iopub.execute_input": "2021-08-17T00:58:31.846665Z",
     "iopub.status.busy": "2021-08-17T00:58:31.845640Z",
     "iopub.status.idle": "2021-08-17T00:58:31.853560Z",
     "shell.execute_reply": "2021-08-17T00:58:31.854169Z",
     "shell.execute_reply.started": "2021-08-13T01:28:33.355071Z"
    },
    "papermill": {
     "duration": 0.046828,
     "end_time": "2021-08-17T00:58:31.854347",
     "exception": false,
     "start_time": "2021-08-17T00:58:31.807519",
     "status": "completed"
    },
    "tags": []
   },
   "outputs": [
    {
     "data": {
      "text/plain": [
       "array([[0., 1., 0., ..., 0., 0., 0.],\n",
       "       [1., 0., 0., ..., 0., 0., 0.],\n",
       "       [0., 1., 0., ..., 0., 0., 0.],\n",
       "       ...,\n",
       "       [0., 0., 0., ..., 1., 0., 0.],\n",
       "       [0., 0., 0., ..., 0., 0., 0.],\n",
       "       [0., 0., 0., ..., 0., 0., 1.]], dtype=float32)"
      ]
     },
     "execution_count": 10,
     "metadata": {},
     "output_type": "execute_result"
    }
   ],
   "source": [
    "y_cat_train = to_categorical(y_train)\n",
    "y_cat_train"
   ]
  },
  {
   "cell_type": "markdown",
   "id": "1a84cab7",
   "metadata": {
    "execution": {
     "iopub.execute_input": "2021-08-10T21:23:25.18572Z",
     "iopub.status.busy": "2021-08-10T21:23:25.18537Z",
     "iopub.status.idle": "2021-08-10T21:23:25.191817Z",
     "shell.execute_reply": "2021-08-10T21:23:25.19024Z",
     "shell.execute_reply.started": "2021-08-10T21:23:25.18569Z"
    },
    "papermill": {
     "duration": 0.035482,
     "end_time": "2021-08-17T00:58:31.928653",
     "exception": false,
     "start_time": "2021-08-17T00:58:31.893171",
     "status": "completed"
    },
    "tags": []
   },
   "source": [
    "<a id=\"sec42\"></a>\n",
    "### data normalization"
   ]
  },
  {
   "cell_type": "code",
   "execution_count": 11,
   "id": "fdf54a52",
   "metadata": {
    "execution": {
     "iopub.execute_input": "2021-08-17T00:58:32.003977Z",
     "iopub.status.busy": "2021-08-17T00:58:32.002999Z",
     "iopub.status.idle": "2021-08-17T00:58:32.111464Z",
     "shell.execute_reply": "2021-08-17T00:58:32.112103Z",
     "shell.execute_reply.started": "2021-08-13T01:28:33.374285Z"
    },
    "papermill": {
     "duration": 0.147954,
     "end_time": "2021-08-17T00:58:32.112293",
     "exception": false,
     "start_time": "2021-08-17T00:58:31.964339",
     "status": "completed"
    },
    "tags": []
   },
   "outputs": [],
   "source": [
    "x_train = x_train/255"
   ]
  },
  {
   "cell_type": "markdown",
   "id": "e324eda5",
   "metadata": {
    "execution": {
     "iopub.execute_input": "2021-08-10T22:02:55.769302Z",
     "iopub.status.busy": "2021-08-10T22:02:55.768933Z",
     "iopub.status.idle": "2021-08-10T22:02:55.775056Z",
     "shell.execute_reply": "2021-08-10T22:02:55.773706Z",
     "shell.execute_reply.started": "2021-08-10T22:02:55.769269Z"
    },
    "papermill": {
     "duration": 0.036031,
     "end_time": "2021-08-17T00:58:32.184316",
     "exception": false,
     "start_time": "2021-08-17T00:58:32.148285",
     "status": "completed"
    },
    "tags": []
   },
   "source": [
    "<a id=\"sec43\"></a>\n",
    "### data split"
   ]
  },
  {
   "cell_type": "code",
   "execution_count": 12,
   "id": "0646e443",
   "metadata": {
    "execution": {
     "iopub.execute_input": "2021-08-17T00:58:32.260151Z",
     "iopub.status.busy": "2021-08-17T00:58:32.259184Z",
     "iopub.status.idle": "2021-08-17T00:58:32.669207Z",
     "shell.execute_reply": "2021-08-17T00:58:32.668627Z",
     "shell.execute_reply.started": "2021-08-13T01:28:33.491358Z"
    },
    "papermill": {
     "duration": 0.449053,
     "end_time": "2021-08-17T00:58:32.669348",
     "exception": false,
     "start_time": "2021-08-17T00:58:32.220295",
     "status": "completed"
    },
    "tags": []
   },
   "outputs": [],
   "source": [
    "X_train, X_val, Y_train, Y_val = train_test_split(x_train, y_cat_train, test_size=0.2, random_state=42)"
   ]
  },
  {
   "cell_type": "markdown",
   "id": "99e2e38b",
   "metadata": {
    "execution": {
     "iopub.execute_input": "2021-08-10T21:24:20.608729Z",
     "iopub.status.busy": "2021-08-10T21:24:20.608375Z",
     "iopub.status.idle": "2021-08-10T21:24:20.615044Z",
     "shell.execute_reply": "2021-08-10T21:24:20.613809Z",
     "shell.execute_reply.started": "2021-08-10T21:24:20.608697Z"
    },
    "papermill": {
     "duration": 0.037056,
     "end_time": "2021-08-17T00:58:32.742239",
     "exception": false,
     "start_time": "2021-08-17T00:58:32.705183",
     "status": "completed"
    },
    "tags": []
   },
   "source": [
    "<a id=\"sec5\"></a>\n",
    "## 5. Define and train model"
   ]
  },
  {
   "cell_type": "code",
   "execution_count": 13,
   "id": "26ba6f5b",
   "metadata": {
    "execution": {
     "iopub.execute_input": "2021-08-17T00:58:32.822156Z",
     "iopub.status.busy": "2021-08-17T00:58:32.821173Z",
     "iopub.status.idle": "2021-08-17T00:58:32.956832Z",
     "shell.execute_reply": "2021-08-17T00:58:32.955788Z",
     "shell.execute_reply.started": "2021-08-13T01:28:35.070976Z"
    },
    "papermill": {
     "duration": 0.178772,
     "end_time": "2021-08-17T00:58:32.956984",
     "exception": false,
     "start_time": "2021-08-17T00:58:32.778212",
     "status": "completed"
    },
    "tags": []
   },
   "outputs": [],
   "source": [
    "model = Sequential()\n",
    "\n",
    "model.add(Conv2D(filters=32, kernel_size=(4,4), input_shape=(28, 28, 1), activation='relu'))\n",
    "model.add(MaxPool2D(pool_size=(2, 2)))\n",
    "model.add(Flatten())\n",
    "model.add(Dense(128, activation='relu'))\n",
    "model.add(Dense(64, activation='relu'))\n",
    "model.add(Dense(10, activation='softmax'))\n",
    "\n",
    "model.compile(loss='categorical_crossentropy',\n",
    "              optimizer='adam',\n",
    "              metrics=['accuracy'])"
   ]
  },
  {
   "cell_type": "code",
   "execution_count": 14,
   "id": "23c21a65",
   "metadata": {
    "execution": {
     "iopub.execute_input": "2021-08-17T00:58:33.035877Z",
     "iopub.status.busy": "2021-08-17T00:58:33.035202Z",
     "iopub.status.idle": "2021-08-17T00:58:33.039774Z",
     "shell.execute_reply": "2021-08-17T00:58:33.040705Z",
     "shell.execute_reply.started": "2021-08-13T01:28:37.384328Z"
    },
    "papermill": {
     "duration": 0.047776,
     "end_time": "2021-08-17T00:58:33.041046",
     "exception": false,
     "start_time": "2021-08-17T00:58:32.993270",
     "status": "completed"
    },
    "tags": []
   },
   "outputs": [
    {
     "name": "stdout",
     "output_type": "stream",
     "text": [
      "Model: \"sequential\"\n",
      "_________________________________________________________________\n",
      "Layer (type)                 Output Shape              Param #   \n",
      "=================================================================\n",
      "conv2d (Conv2D)              (None, 25, 25, 32)        544       \n",
      "_________________________________________________________________\n",
      "max_pooling2d (MaxPooling2D) (None, 12, 12, 32)        0         \n",
      "_________________________________________________________________\n",
      "flatten (Flatten)            (None, 4608)              0         \n",
      "_________________________________________________________________\n",
      "dense (Dense)                (None, 128)               589952    \n",
      "_________________________________________________________________\n",
      "dense_1 (Dense)              (None, 64)                8256      \n",
      "_________________________________________________________________\n",
      "dense_2 (Dense)              (None, 10)                650       \n",
      "=================================================================\n",
      "Total params: 599,402\n",
      "Trainable params: 599,402\n",
      "Non-trainable params: 0\n",
      "_________________________________________________________________\n"
     ]
    }
   ],
   "source": [
    "model.summary()"
   ]
  },
  {
   "cell_type": "code",
   "execution_count": 15,
   "id": "86f7f294",
   "metadata": {
    "execution": {
     "iopub.execute_input": "2021-08-17T00:58:33.118351Z",
     "iopub.status.busy": "2021-08-17T00:58:33.117642Z",
     "iopub.status.idle": "2021-08-17T00:58:33.616546Z",
     "shell.execute_reply": "2021-08-17T00:58:33.615363Z",
     "shell.execute_reply.started": "2021-08-13T01:28:38.20724Z"
    },
    "papermill": {
     "duration": 0.538096,
     "end_time": "2021-08-17T00:58:33.616709",
     "exception": false,
     "start_time": "2021-08-17T00:58:33.078613",
     "status": "completed"
    },
    "tags": []
   },
   "outputs": [
    {
     "data": {
      "image/png": "[encoded data removed]",
      "text/plain": [
       "<IPython.core.display.Image object>"
      ]
     },
     "execution_count": 15,
     "metadata": {},
     "output_type": "execute_result"
    }
   ],
   "source": [
    "plot_model(model, show_shapes=True, show_layer_names=False)"
   ]
  },
  {
   "cell_type": "code",
   "execution_count": 16,
   "id": "d7835d48",
   "metadata": {
    "execution": {
     "iopub.execute_input": "2021-08-17T00:58:33.697938Z",
     "iopub.status.busy": "2021-08-17T00:58:33.697171Z",
     "iopub.status.idle": "2021-08-17T00:58:33.700328Z",
     "shell.execute_reply": "2021-08-17T00:58:33.699539Z",
     "shell.execute_reply.started": "2021-08-13T01:28:40.34237Z"
    },
    "papermill": {
     "duration": 0.045791,
     "end_time": "2021-08-17T00:58:33.700474",
     "exception": false,
     "start_time": "2021-08-17T00:58:33.654683",
     "status": "completed"
    },
    "tags": []
   },
   "outputs": [],
   "source": [
    "early_stop = EarlyStopping(monitor='val_loss',\n",
    "                           patience=5)"
   ]
  },
  {
   "cell_type": "code",
   "execution_count": 17,
   "id": "045ef41a",
   "metadata": {
    "execution": {
     "iopub.execute_input": "2021-08-17T00:58:33.782812Z",
     "iopub.status.busy": "2021-08-17T00:58:33.782083Z",
     "iopub.status.idle": "2021-08-17T01:00:52.590064Z",
     "shell.execute_reply": "2021-08-17T01:00:52.591067Z",
     "shell.execute_reply.started": "2021-08-13T01:29:00.273341Z"
    },
    "papermill": {
     "duration": 138.852889,
     "end_time": "2021-08-17T01:00:52.591301",
     "exception": false,
     "start_time": "2021-08-17T00:58:33.738412",
     "status": "completed"
    },
    "tags": []
   },
   "outputs": [
    {
     "name": "stdout",
     "output_type": "stream",
     "text": [
      "Epoch 1/30\n",
      "1050/1050 [==============================] - 14s 13ms/step - loss: 0.4058 - accuracy: 0.8723 - val_loss: 0.0788 - val_accuracy: 0.9752\n",
      "Epoch 2/30\n",
      "1050/1050 [==============================] - 12s 12ms/step - loss: 0.0592 - accuracy: 0.9807 - val_loss: 0.0567 - val_accuracy: 0.9808\n",
      "Epoch 3/30\n",
      "1050/1050 [==============================] - 12s 12ms/step - loss: 0.0339 - accuracy: 0.9884 - val_loss: 0.0536 - val_accuracy: 0.9823\n",
      "Epoch 4/30\n",
      "1050/1050 [==============================] - 12s 12ms/step - loss: 0.0255 - accuracy: 0.9914 - val_loss: 0.0526 - val_accuracy: 0.9829\n",
      "Epoch 5/30\n",
      "1050/1050 [==============================] - 12s 12ms/step - loss: 0.0193 - accuracy: 0.9936 - val_loss: 0.0530 - val_accuracy: 0.9839\n",
      "Epoch 6/30\n",
      "1050/1050 [==============================] - 12s 12ms/step - loss: 0.0123 - accuracy: 0.9960 - val_loss: 0.0498 - val_accuracy: 0.9862\n",
      "Epoch 7/30\n",
      "1050/1050 [==============================] - 12s 12ms/step - loss: 0.0120 - accuracy: 0.9962 - val_loss: 0.0572 - val_accuracy: 0.9842\n",
      "Epoch 8/30\n",
      "1050/1050 [==============================] - 13s 12ms/step - loss: 0.0079 - accuracy: 0.9976 - val_loss: 0.0592 - val_accuracy: 0.9850\n",
      "Epoch 9/30\n",
      "1050/1050 [==============================] - 13s 12ms/step - loss: 0.0072 - accuracy: 0.9976 - val_loss: 0.0718 - val_accuracy: 0.9836\n",
      "Epoch 10/30\n",
      "1050/1050 [==============================] - 13s 12ms/step - loss: 0.0089 - accuracy: 0.9970 - val_loss: 0.0528 - val_accuracy: 0.9879\n",
      "Epoch 11/30\n",
      "1050/1050 [==============================] - 12s 12ms/step - loss: 0.0058 - accuracy: 0.9981 - val_loss: 0.0740 - val_accuracy: 0.9845\n"
     ]
    },
    {
     "data": {
      "text/plain": [
       "<tensorflow.python.keras.callbacks.History at 0x7eff84d0a750>"
      ]
     },
     "execution_count": 17,
     "metadata": {},
     "output_type": "execute_result"
    }
   ],
   "source": [
    "# TRAIN MODEL\n",
    "\n",
    "model.fit(X_train,\n",
    "          Y_train, \n",
    "          epochs=30, \n",
    "          validation_data=(X_val, Y_val),\n",
    "          callbacks=[early_stop])"
   ]
  },
  {
   "cell_type": "markdown",
   "id": "97ccd9fc",
   "metadata": {
    "papermill": {
     "duration": 0.76366,
     "end_time": "2021-08-17T01:00:54.181428",
     "exception": false,
     "start_time": "2021-08-17T01:00:53.417768",
     "status": "completed"
    },
    "tags": []
   },
   "source": [
    "<a id=\"sec6\"></a>\n",
    "## 6. Evaluate model"
   ]
  },
  {
   "cell_type": "code",
   "execution_count": 18,
   "id": "24c4a18a",
   "metadata": {
    "execution": {
     "iopub.execute_input": "2021-08-17T01:00:55.809506Z",
     "iopub.status.busy": "2021-08-17T01:00:55.808510Z",
     "iopub.status.idle": "2021-08-17T01:00:55.813450Z",
     "shell.execute_reply": "2021-08-17T01:00:55.812737Z",
     "shell.execute_reply.started": "2021-08-13T01:48:27.429686Z"
    },
    "papermill": {
     "duration": 0.804552,
     "end_time": "2021-08-17T01:00:55.813609",
     "exception": false,
     "start_time": "2021-08-17T01:00:55.009057",
     "status": "completed"
    },
    "tags": []
   },
   "outputs": [
    {
     "data": {
      "text/html": [
       "<div>\n",
       "<style scoped>\n",
       "    .dataframe tbody tr th:only-of-type {\n",
       "        vertical-align: middle;\n",
       "    }\n",
       "\n",
       "    .dataframe tbody tr th {\n",
       "        vertical-align: top;\n",
       "    }\n",
       "\n",
       "    .dataframe thead th {\n",
       "        text-align: right;\n",
       "    }\n",
       "</style>\n",
       "<table border=\"1\" class=\"dataframe\">\n",
       "  <thead>\n",
       "    <tr style=\"text-align: right;\">\n",
       "      <th></th>\n",
       "      <th>loss</th>\n",
       "      <th>accuracy</th>\n",
       "      <th>val_loss</th>\n",
       "      <th>val_accuracy</th>\n",
       "    </tr>\n",
       "  </thead>\n",
       "  <tbody>\n",
       "    <tr>\n",
       "      <th>0</th>\n",
       "      <td>0.197094</td>\n",
       "      <td>0.939018</td>\n",
       "      <td>0.078803</td>\n",
       "      <td>0.975238</td>\n",
       "    </tr>\n",
       "    <tr>\n",
       "      <th>1</th>\n",
       "      <td>0.059559</td>\n",
       "      <td>0.981161</td>\n",
       "      <td>0.056720</td>\n",
       "      <td>0.980833</td>\n",
       "    </tr>\n",
       "    <tr>\n",
       "      <th>2</th>\n",
       "      <td>0.038439</td>\n",
       "      <td>0.987500</td>\n",
       "      <td>0.053610</td>\n",
       "      <td>0.982262</td>\n",
       "    </tr>\n",
       "    <tr>\n",
       "      <th>3</th>\n",
       "      <td>0.026299</td>\n",
       "      <td>0.991518</td>\n",
       "      <td>0.052638</td>\n",
       "      <td>0.982857</td>\n",
       "    </tr>\n",
       "    <tr>\n",
       "      <th>4</th>\n",
       "      <td>0.021257</td>\n",
       "      <td>0.993304</td>\n",
       "      <td>0.052972</td>\n",
       "      <td>0.983929</td>\n",
       "    </tr>\n",
       "    <tr>\n",
       "      <th>5</th>\n",
       "      <td>0.014410</td>\n",
       "      <td>0.995179</td>\n",
       "      <td>0.049795</td>\n",
       "      <td>0.986190</td>\n",
       "    </tr>\n",
       "    <tr>\n",
       "      <th>6</th>\n",
       "      <td>0.012650</td>\n",
       "      <td>0.995923</td>\n",
       "      <td>0.057169</td>\n",
       "      <td>0.984167</td>\n",
       "    </tr>\n",
       "    <tr>\n",
       "      <th>7</th>\n",
       "      <td>0.010944</td>\n",
       "      <td>0.996190</td>\n",
       "      <td>0.059163</td>\n",
       "      <td>0.985000</td>\n",
       "    </tr>\n",
       "    <tr>\n",
       "      <th>8</th>\n",
       "      <td>0.008403</td>\n",
       "      <td>0.997173</td>\n",
       "      <td>0.071843</td>\n",
       "      <td>0.983571</td>\n",
       "    </tr>\n",
       "    <tr>\n",
       "      <th>9</th>\n",
       "      <td>0.009211</td>\n",
       "      <td>0.996964</td>\n",
       "      <td>0.052806</td>\n",
       "      <td>0.987857</td>\n",
       "    </tr>\n",
       "    <tr>\n",
       "      <th>10</th>\n",
       "      <td>0.006677</td>\n",
       "      <td>0.997738</td>\n",
       "      <td>0.073994</td>\n",
       "      <td>0.984524</td>\n",
       "    </tr>\n",
       "  </tbody>\n",
       "</table>\n",
       "</div>"
      ],
      "text/plain": [
       "        loss  accuracy  val_loss  val_accuracy\n",
       "0   0.197094  0.939018  0.078803      0.975238\n",
       "1   0.059559  0.981161  0.056720      0.980833\n",
       "2   0.038439  0.987500  0.053610      0.982262\n",
       "3   0.026299  0.991518  0.052638      0.982857\n",
       "4   0.021257  0.993304  0.052972      0.983929\n",
       "5   0.014410  0.995179  0.049795      0.986190\n",
       "6   0.012650  0.995923  0.057169      0.984167\n",
       "7   0.010944  0.996190  0.059163      0.985000\n",
       "8   0.008403  0.997173  0.071843      0.983571\n",
       "9   0.009211  0.996964  0.052806      0.987857\n",
       "10  0.006677  0.997738  0.073994      0.984524"
      ]
     },
     "execution_count": 18,
     "metadata": {},
     "output_type": "execute_result"
    }
   ],
   "source": [
    "losses = pd.DataFrame(model.history.history)\n",
    "losses"
   ]
  },
  {
   "cell_type": "code",
   "execution_count": 19,
   "id": "bd328d54",
   "metadata": {
    "execution": {
     "iopub.execute_input": "2021-08-17T01:00:57.367414Z",
     "iopub.status.busy": "2021-08-17T01:00:57.366588Z",
     "iopub.status.idle": "2021-08-17T01:00:57.620575Z",
     "shell.execute_reply": "2021-08-17T01:00:57.619991Z",
     "shell.execute_reply.started": "2021-08-13T01:48:28.57828Z"
    },
    "papermill": {
     "duration": 1.028004,
     "end_time": "2021-08-17T01:00:57.620805",
     "exception": false,
     "start_time": "2021-08-17T01:00:56.592801",
     "status": "completed"
    },
    "tags": []
   },
   "outputs": [
    {
     "data": {
      "text/plain": [
       "<AxesSubplot:>"
      ]
     },
     "execution_count": 19,
     "metadata": {},
     "output_type": "execute_result"
    },
    {
     "data": {
      "image/png": "[encoded data removed]",
      "text/plain": [
       "<Figure size 432x288 with 1 Axes>"
      ]
     },
     "metadata": {
      "needs_background": "light"
     },
     "output_type": "display_data"
    }
   ],
   "source": [
    "losses[['accuracy','val_accuracy']].plot()"
   ]
  },
  {
   "cell_type": "code",
   "execution_count": 20,
   "id": "0eefb5d4",
   "metadata": {
    "execution": {
     "iopub.execute_input": "2021-08-17T01:00:59.166001Z",
     "iopub.status.busy": "2021-08-17T01:00:59.165240Z",
     "iopub.status.idle": "2021-08-17T01:00:59.384204Z",
     "shell.execute_reply": "2021-08-17T01:00:59.383484Z",
     "shell.execute_reply.started": "2021-08-13T01:48:31.827882Z"
    },
    "papermill": {
     "duration": 1.000114,
     "end_time": "2021-08-17T01:00:59.384380",
     "exception": false,
     "start_time": "2021-08-17T01:00:58.384266",
     "status": "completed"
    },
    "tags": []
   },
   "outputs": [
    {
     "data": {
      "text/plain": [
       "<AxesSubplot:>"
      ]
     },
     "execution_count": 20,
     "metadata": {},
     "output_type": "execute_result"
    },
    {
     "data": {
      "image/png": "[encoded data removed]",
      "text/plain": [
       "<Figure size 432x288 with 1 Axes>"
      ]
     },
     "metadata": {
      "needs_background": "light"
     },
     "output_type": "display_data"
    }
   ],
   "source": [
    "losses[['loss','val_loss']].plot()"
   ]
  },
  {
   "cell_type": "code",
   "execution_count": 21,
   "id": "8eed0edd",
   "metadata": {
    "execution": {
     "iopub.execute_input": "2021-08-17T01:01:00.925413Z",
     "iopub.status.busy": "2021-08-17T01:01:00.924762Z",
     "iopub.status.idle": "2021-08-17T01:01:02.094135Z",
     "shell.execute_reply": "2021-08-17T01:01:02.093390Z",
     "shell.execute_reply.started": "2021-08-13T01:48:35.850138Z"
    },
    "papermill": {
     "duration": 1.921529,
     "end_time": "2021-08-17T01:01:02.094303",
     "exception": false,
     "start_time": "2021-08-17T01:01:00.172774",
     "status": "completed"
    },
    "tags": []
   },
   "outputs": [],
   "source": [
    "pred_val = np.argmax(model.predict(X_val), axis=1)\n",
    "real_val = np.argmax(Y_val, axis=1)"
   ]
  },
  {
   "cell_type": "code",
   "execution_count": 22,
   "id": "5932c15e",
   "metadata": {
    "execution": {
     "iopub.execute_input": "2021-08-17T01:01:03.682286Z",
     "iopub.status.busy": "2021-08-17T01:01:03.681544Z",
     "iopub.status.idle": "2021-08-17T01:01:03.709972Z",
     "shell.execute_reply": "2021-08-17T01:01:03.710499Z",
     "shell.execute_reply.started": "2021-08-13T01:48:47.817307Z"
    },
    "papermill": {
     "duration": 0.860228,
     "end_time": "2021-08-17T01:01:03.710681",
     "exception": false,
     "start_time": "2021-08-17T01:01:02.850453",
     "status": "completed"
    },
    "tags": []
   },
   "outputs": [
    {
     "name": "stdout",
     "output_type": "stream",
     "text": [
      "              precision    recall  f1-score   support\n",
      "\n",
      "           0       0.99      0.99      0.99       816\n",
      "           1       0.99      0.99      0.99       909\n",
      "           2       0.98      0.98      0.98       846\n",
      "           3       0.99      0.98      0.98       937\n",
      "           4       0.98      0.98      0.98       839\n",
      "           5       0.99      0.98      0.98       702\n",
      "           6       0.99      0.99      0.99       785\n",
      "           7       0.99      0.98      0.99       893\n",
      "           8       0.98      0.98      0.98       835\n",
      "           9       0.96      0.99      0.98       838\n",
      "\n",
      "    accuracy                           0.98      8400\n",
      "   macro avg       0.98      0.98      0.98      8400\n",
      "weighted avg       0.98      0.98      0.98      8400\n",
      "\n"
     ]
    }
   ],
   "source": [
    "print(classification_report(real_val, pred_val))"
   ]
  },
  {
   "cell_type": "code",
   "execution_count": 23,
   "id": "13c63909",
   "metadata": {
    "execution": {
     "iopub.execute_input": "2021-08-17T01:01:05.217053Z",
     "iopub.status.busy": "2021-08-17T01:01:05.216051Z",
     "iopub.status.idle": "2021-08-17T01:01:05.234713Z",
     "shell.execute_reply": "2021-08-17T01:01:05.235210Z",
     "shell.execute_reply.started": "2021-08-13T01:48:48.037502Z"
    },
    "papermill": {
     "duration": 0.772568,
     "end_time": "2021-08-17T01:01:05.235404",
     "exception": false,
     "start_time": "2021-08-17T01:01:04.462836",
     "status": "completed"
    },
    "tags": []
   },
   "outputs": [
    {
     "data": {
      "text/plain": [
       "array([[811,   0,   0,   0,   1,   0,   1,   0,   1,   2],\n",
       "       [  0, 904,   3,   0,   0,   0,   0,   0,   2,   0],\n",
       "       [  1,   4, 833,   0,   5,   0,   0,   0,   2,   1],\n",
       "       [  1,   0,   3, 916,   0,   3,   0,   3,   5,   6],\n",
       "       [  1,   3,   0,   0, 821,   1,   4,   0,   0,   9],\n",
       "       [  1,   0,   0,   4,   1, 685,   6,   0,   2,   3],\n",
       "       [  2,   3,   0,   0,   0,   1, 775,   0,   4,   0],\n",
       "       [  0,   0,   6,   0,   3,   0,   0, 877,   2,   5],\n",
       "       [  1,   0,   3,   2,   1,   2,   0,   2, 818,   6],\n",
       "       [  1,   0,   0,   2,   3,   1,   0,   0,   1, 830]])"
      ]
     },
     "execution_count": 23,
     "metadata": {},
     "output_type": "execute_result"
    }
   ],
   "source": [
    "confusion_matrix(real_val, pred_val)"
   ]
  },
  {
   "cell_type": "markdown",
   "id": "d9b77012",
   "metadata": {
    "execution": {
     "iopub.execute_input": "2021-08-11T00:46:25.319511Z",
     "iopub.status.busy": "2021-08-11T00:46:25.31909Z",
     "iopub.status.idle": "2021-08-11T00:46:25.326406Z",
     "shell.execute_reply": "2021-08-11T00:46:25.324908Z",
     "shell.execute_reply.started": "2021-08-11T00:46:25.319478Z"
    },
    "papermill": {
     "duration": 0.754359,
     "end_time": "2021-08-17T01:01:06.739938",
     "exception": false,
     "start_time": "2021-08-17T01:01:05.985579",
     "status": "completed"
    },
    "tags": []
   },
   "source": [
    "<a id=\"sec7\"></a>\n",
    "## 7. Predict on test data"
   ]
  },
  {
   "cell_type": "code",
   "execution_count": 24,
   "id": "16306efd",
   "metadata": {
    "execution": {
     "iopub.execute_input": "2021-08-17T01:01:08.283174Z",
     "iopub.status.busy": "2021-08-17T01:01:08.281983Z",
     "iopub.status.idle": "2021-08-17T01:01:08.373264Z",
     "shell.execute_reply": "2021-08-17T01:01:08.373770Z",
     "shell.execute_reply.started": "2021-08-13T01:48:55.464715Z"
    },
    "papermill": {
     "duration": 0.868757,
     "end_time": "2021-08-17T01:01:08.373967",
     "exception": false,
     "start_time": "2021-08-17T01:01:07.505210",
     "status": "completed"
    },
    "tags": []
   },
   "outputs": [
    {
     "data": {
      "text/plain": [
       "(28000, 28, 28, 1)"
      ]
     },
     "execution_count": 24,
     "metadata": {},
     "output_type": "execute_result"
    }
   ],
   "source": [
    "N_test_samples = x_test.shape[0]\n",
    "\n",
    "x_test_new = x_test.reshape(N_test_samples, 28, 28, 1)\n",
    "x_test_new = x_test_new/255\n",
    "\n",
    "x_test_new.shape"
   ]
  },
  {
   "cell_type": "code",
   "execution_count": 25,
   "id": "ad58d026",
   "metadata": {
    "execution": {
     "iopub.execute_input": "2021-08-17T01:01:09.896051Z",
     "iopub.status.busy": "2021-08-17T01:01:09.895362Z",
     "iopub.status.idle": "2021-08-17T01:01:14.014397Z",
     "shell.execute_reply": "2021-08-17T01:01:14.013602Z",
     "shell.execute_reply.started": "2021-08-13T01:48:55.808036Z"
    },
    "papermill": {
     "duration": 4.880434,
     "end_time": "2021-08-17T01:01:14.014631",
     "exception": false,
     "start_time": "2021-08-17T01:01:09.134197",
     "status": "completed"
    },
    "tags": []
   },
   "outputs": [
    {
     "name": "stdout",
     "output_type": "stream",
     "text": [
      "(28000, 10)\n"
     ]
    },
    {
     "data": {
      "text/plain": [
       "array([[6.69903044e-14, 3.46782268e-14, 1.00000000e+00, ...,\n",
       "        1.27913177e-15, 5.12586986e-15, 2.61817799e-15],\n",
       "       [1.00000000e+00, 6.11868345e-17, 5.47624392e-13, ...,\n",
       "        4.31443591e-13, 4.09818013e-12, 6.32739304e-12],\n",
       "       [1.69757430e-17, 1.80309157e-14, 2.55816446e-13, ...,\n",
       "        9.86240061e-13, 3.63563207e-11, 9.99999881e-01],\n",
       "       ...,\n",
       "       [4.42398901e-22, 2.04316258e-18, 1.93152960e-18, ...,\n",
       "        2.36803812e-20, 2.22601466e-15, 1.52218523e-15],\n",
       "       [1.19298763e-13, 5.80044503e-14, 3.26842481e-12, ...,\n",
       "        1.07631563e-10, 1.42550305e-10, 9.99999523e-01],\n",
       "       [6.16058603e-16, 2.67955061e-15, 1.00000000e+00, ...,\n",
       "        1.59253510e-17, 1.43702717e-13, 1.10239556e-13]], dtype=float32)"
      ]
     },
     "execution_count": 25,
     "metadata": {},
     "output_type": "execute_result"
    }
   ],
   "source": [
    "predictions = model.predict(x_test_new)\n",
    "\n",
    "print(predictions.shape)\n",
    "\n",
    "predictions"
   ]
  },
  {
   "cell_type": "code",
   "execution_count": 26,
   "id": "69950b39",
   "metadata": {
    "execution": {
     "iopub.execute_input": "2021-08-17T01:01:15.589461Z",
     "iopub.status.busy": "2021-08-17T01:01:15.588215Z",
     "iopub.status.idle": "2021-08-17T01:01:15.595567Z",
     "shell.execute_reply": "2021-08-17T01:01:15.596097Z",
     "shell.execute_reply.started": "2021-08-13T01:48:59.543053Z"
    },
    "papermill": {
     "duration": 0.770977,
     "end_time": "2021-08-17T01:01:15.596301",
     "exception": false,
     "start_time": "2021-08-17T01:01:14.825324",
     "status": "completed"
    },
    "tags": []
   },
   "outputs": [
    {
     "data": {
      "text/plain": [
       "array([2, 0, 9, ..., 3, 9, 2])"
      ]
     },
     "execution_count": 26,
     "metadata": {},
     "output_type": "execute_result"
    }
   ],
   "source": [
    "final_pred = np.argmax(predictions, axis=1)\n",
    "\n",
    "final_pred"
   ]
  },
  {
   "cell_type": "code",
   "execution_count": 27,
   "id": "c788e7fe",
   "metadata": {
    "execution": {
     "iopub.execute_input": "2021-08-17T01:01:17.214470Z",
     "iopub.status.busy": "2021-08-17T01:01:17.213805Z",
     "iopub.status.idle": "2021-08-17T01:01:17.382311Z",
     "shell.execute_reply": "2021-08-17T01:01:17.383037Z",
     "shell.execute_reply.started": "2021-08-13T01:48:59.552638Z"
    },
    "papermill": {
     "duration": 1.013114,
     "end_time": "2021-08-17T01:01:17.383306",
     "exception": false,
     "start_time": "2021-08-17T01:01:16.370192",
     "status": "completed"
    },
    "tags": []
   },
   "outputs": [
    {
     "name": "stdout",
     "output_type": "stream",
     "text": [
      "Predicted value: 5\n",
      "\n"
     ]
    },
    {
     "data": {
      "image/png": "[encoded data removed]",
      "text/plain": [
       "<Figure size 432x288 with 1 Axes>"
      ]
     },
     "metadata": {
      "needs_background": "light"
     },
     "output_type": "display_data"
    }
   ],
   "source": [
    "# Visualize some test prediction and corresponding digit \n",
    "\n",
    "test_index = 10\n",
    "\n",
    "plt.imshow(x_test_new[test_index], cmap='Greys')\n",
    "print(f\"Predicted value: {final_pred[test_index]}\\n\")\n"
   ]
  },
  {
   "cell_type": "markdown",
   "id": "d91f0a01",
   "metadata": {
    "execution": {
     "iopub.execute_input": "2021-08-11T01:02:51.369067Z",
     "iopub.status.busy": "2021-08-11T01:02:51.368673Z",
     "iopub.status.idle": "2021-08-11T01:02:51.376131Z",
     "shell.execute_reply": "2021-08-11T01:02:51.374436Z",
     "shell.execute_reply.started": "2021-08-11T01:02:51.369013Z"
    },
    "papermill": {
     "duration": 0.769678,
     "end_time": "2021-08-17T01:01:18.921969",
     "exception": false,
     "start_time": "2021-08-17T01:01:18.152291",
     "status": "completed"
    },
    "tags": []
   },
   "source": [
    "<a id=\"sec71\"></a>\n",
    "### generate submission"
   ]
  },
  {
   "cell_type": "code",
   "execution_count": 28,
   "id": "8ee14f29",
   "metadata": {
    "execution": {
     "iopub.execute_input": "2021-08-17T01:01:20.449120Z",
     "iopub.status.busy": "2021-08-17T01:01:20.448476Z",
     "iopub.status.idle": "2021-08-17T01:01:20.482611Z",
     "shell.execute_reply": "2021-08-17T01:01:20.483143Z",
     "shell.execute_reply.started": "2021-08-13T01:49:00.102485Z"
    },
    "papermill": {
     "duration": 0.801499,
     "end_time": "2021-08-17T01:01:20.483316",
     "exception": false,
     "start_time": "2021-08-17T01:01:19.681817",
     "status": "completed"
    },
    "tags": []
   },
   "outputs": [
    {
     "data": {
      "text/html": [
       "<div>\n",
       "<style scoped>\n",
       "    .dataframe tbody tr th:only-of-type {\n",
       "        vertical-align: middle;\n",
       "    }\n",
       "\n",
       "    .dataframe tbody tr th {\n",
       "        vertical-align: top;\n",
       "    }\n",
       "\n",
       "    .dataframe thead th {\n",
       "        text-align: right;\n",
       "    }\n",
       "</style>\n",
       "<table border=\"1\" class=\"dataframe\">\n",
       "  <thead>\n",
       "    <tr style=\"text-align: right;\">\n",
       "      <th></th>\n",
       "      <th>ImageId</th>\n",
       "      <th>Label</th>\n",
       "    </tr>\n",
       "  </thead>\n",
       "  <tbody>\n",
       "    <tr>\n",
       "      <th>0</th>\n",
       "      <td>1</td>\n",
       "      <td>0</td>\n",
       "    </tr>\n",
       "    <tr>\n",
       "      <th>1</th>\n",
       "      <td>2</td>\n",
       "      <td>0</td>\n",
       "    </tr>\n",
       "    <tr>\n",
       "      <th>2</th>\n",
       "      <td>3</td>\n",
       "      <td>0</td>\n",
       "    </tr>\n",
       "    <tr>\n",
       "      <th>3</th>\n",
       "      <td>4</td>\n",
       "      <td>0</td>\n",
       "    </tr>\n",
       "    <tr>\n",
       "      <th>4</th>\n",
       "      <td>5</td>\n",
       "      <td>0</td>\n",
       "    </tr>\n",
       "    <tr>\n",
       "      <th>...</th>\n",
       "      <td>...</td>\n",
       "      <td>...</td>\n",
       "    </tr>\n",
       "    <tr>\n",
       "      <th>27995</th>\n",
       "      <td>27996</td>\n",
       "      <td>0</td>\n",
       "    </tr>\n",
       "    <tr>\n",
       "      <th>27996</th>\n",
       "      <td>27997</td>\n",
       "      <td>0</td>\n",
       "    </tr>\n",
       "    <tr>\n",
       "      <th>27997</th>\n",
       "      <td>27998</td>\n",
       "      <td>0</td>\n",
       "    </tr>\n",
       "    <tr>\n",
       "      <th>27998</th>\n",
       "      <td>27999</td>\n",
       "      <td>0</td>\n",
       "    </tr>\n",
       "    <tr>\n",
       "      <th>27999</th>\n",
       "      <td>28000</td>\n",
       "      <td>0</td>\n",
       "    </tr>\n",
       "  </tbody>\n",
       "</table>\n",
       "<p>28000 rows × 2 columns</p>\n",
       "</div>"
      ],
      "text/plain": [
       "       ImageId  Label\n",
       "0            1      0\n",
       "1            2      0\n",
       "2            3      0\n",
       "3            4      0\n",
       "4            5      0\n",
       "...        ...    ...\n",
       "27995    27996      0\n",
       "27996    27997      0\n",
       "27997    27998      0\n",
       "27998    27999      0\n",
       "27999    28000      0\n",
       "\n",
       "[28000 rows x 2 columns]"
      ]
     },
     "execution_count": 28,
     "metadata": {},
     "output_type": "execute_result"
    }
   ],
   "source": [
    "pd.read_csv(\"/kaggle/input/digit-recognizer/sample_submission.csv\")"
   ]
  },
  {
   "cell_type": "code",
   "execution_count": 29,
   "id": "3b156138",
   "metadata": {
    "execution": {
     "iopub.execute_input": "2021-08-17T01:01:22.040668Z",
     "iopub.status.busy": "2021-08-17T01:01:22.032680Z",
     "iopub.status.idle": "2021-08-17T01:01:22.046402Z",
     "shell.execute_reply": "2021-08-17T01:01:22.045616Z",
     "shell.execute_reply.started": "2021-08-13T01:49:00.138498Z"
    },
    "papermill": {
     "duration": 0.793132,
     "end_time": "2021-08-17T01:01:22.046557",
     "exception": false,
     "start_time": "2021-08-17T01:01:21.253425",
     "status": "completed"
    },
    "tags": []
   },
   "outputs": [
    {
     "data": {
      "text/html": [
       "<div>\n",
       "<style scoped>\n",
       "    .dataframe tbody tr th:only-of-type {\n",
       "        vertical-align: middle;\n",
       "    }\n",
       "\n",
       "    .dataframe tbody tr th {\n",
       "        vertical-align: top;\n",
       "    }\n",
       "\n",
       "    .dataframe thead th {\n",
       "        text-align: right;\n",
       "    }\n",
       "</style>\n",
       "<table border=\"1\" class=\"dataframe\">\n",
       "  <thead>\n",
       "    <tr style=\"text-align: right;\">\n",
       "      <th></th>\n",
       "      <th>ImageId</th>\n",
       "      <th>Label</th>\n",
       "    </tr>\n",
       "  </thead>\n",
       "  <tbody>\n",
       "    <tr>\n",
       "      <th>0</th>\n",
       "      <td>1</td>\n",
       "      <td>2</td>\n",
       "    </tr>\n",
       "    <tr>\n",
       "      <th>1</th>\n",
       "      <td>2</td>\n",
       "      <td>0</td>\n",
       "    </tr>\n",
       "    <tr>\n",
       "      <th>2</th>\n",
       "      <td>3</td>\n",
       "      <td>9</td>\n",
       "    </tr>\n",
       "    <tr>\n",
       "      <th>3</th>\n",
       "      <td>4</td>\n",
       "      <td>0</td>\n",
       "    </tr>\n",
       "    <tr>\n",
       "      <th>4</th>\n",
       "      <td>5</td>\n",
       "      <td>3</td>\n",
       "    </tr>\n",
       "    <tr>\n",
       "      <th>...</th>\n",
       "      <td>...</td>\n",
       "      <td>...</td>\n",
       "    </tr>\n",
       "    <tr>\n",
       "      <th>27995</th>\n",
       "      <td>27996</td>\n",
       "      <td>9</td>\n",
       "    </tr>\n",
       "    <tr>\n",
       "      <th>27996</th>\n",
       "      <td>27997</td>\n",
       "      <td>7</td>\n",
       "    </tr>\n",
       "    <tr>\n",
       "      <th>27997</th>\n",
       "      <td>27998</td>\n",
       "      <td>3</td>\n",
       "    </tr>\n",
       "    <tr>\n",
       "      <th>27998</th>\n",
       "      <td>27999</td>\n",
       "      <td>9</td>\n",
       "    </tr>\n",
       "    <tr>\n",
       "      <th>27999</th>\n",
       "      <td>28000</td>\n",
       "      <td>2</td>\n",
       "    </tr>\n",
       "  </tbody>\n",
       "</table>\n",
       "<p>28000 rows × 2 columns</p>\n",
       "</div>"
      ],
      "text/plain": [
       "       ImageId  Label\n",
       "0            1      2\n",
       "1            2      0\n",
       "2            3      9\n",
       "3            4      0\n",
       "4            5      3\n",
       "...        ...    ...\n",
       "27995    27996      9\n",
       "27996    27997      7\n",
       "27997    27998      3\n",
       "27998    27999      9\n",
       "27999    28000      2\n",
       "\n",
       "[28000 rows x 2 columns]"
      ]
     },
     "execution_count": 29,
     "metadata": {},
     "output_type": "execute_result"
    }
   ],
   "source": [
    "submission_dict = {\"ImageId\": [i+1 for i in range(28000)],\n",
    "                   \"Label\": final_pred}\n",
    "\n",
    "sub_df = pd.DataFrame(submission_dict)\n",
    "\n",
    "sub_df"
   ]
  },
  {
   "cell_type": "code",
   "execution_count": 30,
   "id": "d4df8b54",
   "metadata": {
    "execution": {
     "iopub.execute_input": "2021-08-17T01:01:23.754566Z",
     "iopub.status.busy": "2021-08-17T01:01:23.753900Z",
     "iopub.status.idle": "2021-08-17T01:01:23.815392Z",
     "shell.execute_reply": "2021-08-17T01:01:23.814680Z",
     "shell.execute_reply.started": "2021-08-13T01:51:28.113184Z"
    },
    "papermill": {
     "duration": 0.917922,
     "end_time": "2021-08-17T01:01:23.815586",
     "exception": false,
     "start_time": "2021-08-17T01:01:22.897664",
     "status": "completed"
    },
    "tags": []
   },
   "outputs": [],
   "source": [
    "sub_df.to_csv(\"submission.csv\", index=False)"
   ]
  },
  {
   "cell_type": "markdown",
   "id": "6a99b2b7",
   "metadata": {
    "execution": {
     "iopub.execute_input": "2021-08-12T20:12:10.211877Z",
     "iopub.status.busy": "2021-08-12T20:12:10.211356Z",
     "iopub.status.idle": "2021-08-12T20:12:10.224862Z",
     "shell.execute_reply": "2021-08-12T20:12:10.223272Z",
     "shell.execute_reply.started": "2021-08-12T20:12:10.211753Z"
    },
    "papermill": {
     "duration": 0.801108,
     "end_time": "2021-08-17T01:01:25.423975",
     "exception": false,
     "start_time": "2021-08-17T01:01:24.622867",
     "status": "completed"
    },
    "tags": []
   },
   "source": [
    "<a id=\"sec8\"></a>\n",
    "## 8. Potential next steps"
   ]
  },
  {
   "cell_type": "markdown",
   "id": "e85a9c69",
   "metadata": {
    "execution": {
     "iopub.execute_input": "2021-08-12T20:13:17.578287Z",
     "iopub.status.busy": "2021-08-12T20:13:17.577869Z",
     "iopub.status.idle": "2021-08-12T20:13:17.585148Z",
     "shell.execute_reply": "2021-08-12T20:13:17.584098Z",
     "shell.execute_reply.started": "2021-08-12T20:13:17.578243Z"
    },
    "papermill": {
     "duration": 0.828232,
     "end_time": "2021-08-17T01:01:27.082275",
     "exception": false,
     "start_time": "2021-08-17T01:01:26.254043",
     "status": "completed"
    },
    "tags": []
   },
   "source": [
    "* explore (mean? histogram? nonzero per class?)\n",
    "* feature selection (crop and other methods)?\n",
    "* dimensionality reduction?\n",
    "* data augmentation?\n",
    "* cross validation?\n",
    "* more complex CNN?\n",
    "* grid search?\n",
    "* compare to simpler approach (cosine similarity? svm?)"
   ]
  }
 ],
 "metadata": {
  "kernelspec": {
   "display_name": "Python 3",
   "language": "python",
   "name": "python3"
  },
  "language_info": {
   "codemirror_mode": {
    "name": "ipython",
    "version": 3
   },
   "file_extension": ".py",
   "mimetype": "text/x-python",
   "name": "python",
   "nbconvert_exporter": "python",
   "pygments_lexer": "ipython3",
   "version": "3.7.10"
  },
  "papermill": {
   "default_parameters": {},
   "duration": 201.174473,
   "end_time": "2021-08-17T01:01:29.645259",
   "environment_variables": {},
   "exception": null,
   "input_path": "__notebook__.ipynb",
   "output_path": "__notebook__.ipynb",
   "parameters": {},
   "start_time": "2021-08-17T00:58:08.470786",
   "version": "2.3.3"
  }
 },
 "nbformat": 4,
 "nbformat_minor": 5
}
